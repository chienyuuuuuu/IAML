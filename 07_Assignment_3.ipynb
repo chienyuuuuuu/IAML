{
 "cells": [
  {
   "cell_type": "markdown",
   "metadata": {},
   "source": [
    "# Introductory applied machine learning (INFR10069)"
   ]
  },
  {
   "cell_type": "markdown",
   "metadata": {},
   "source": [
    "# Assignment 3: Object recognition"
   ]
  },
  {
   "cell_type": "markdown",
   "metadata": {},
   "source": [
    "## Marking Breakdown\n",
    "\n",
    "**70-100%** results/answer correct plus extra achievement at understanding or analysis of results. Clear explanations, evidence of creative or deeper thought will contribute to a higher grade.\n",
    "\n",
    "**60-69%** results/answer correct or nearly correct and well explained.\n",
    "\n",
    "**50-59%** results/answer in right direction but significant errors.\n",
    "\n",
    "**40-49%** some evidence that the student has gained some understanding, but not answered the questions\n",
    "properly.\n",
    "\n",
    "**0-39%** serious error or slack work."
   ]
  },
  {
   "cell_type": "markdown",
   "metadata": {},
   "source": [
    "## Mechanics\n",
    "\n",
    "Fill out this notebook, save it, and submit it **and a `.txt` file** (see Part 2) in answer to this assignment.\n",
    "**You need to submit these two files electronically as described below.**\n",
    "\n",
    "On a DICE environment, open the terminal, navigate to the location of this notebook, and submit this notebook file using the following command:\n",
    "\n",
    "`submit iaml cw2 07_Assignment_3.ipynb assignment_3_predictions.txt`\n",
    "\n",
    "What actually happens in the background is that your file is placed in a folder available to markers. If you submit a file with the same name into the same location, **it will *overwrite* your previous submission**. You can check the status of your submissions with the `show_submissions` command.\n",
    "\n",
    "**Distance Learners:** To copy your work up to DICE (such that you can use the `submit` command) you can use `scp` or `rsync` (you may need to install these yourself). You can copy files up using `student.ssh.inf.ed.ac.uk`, then ssh in to submit, e.g. (in a unix terminal):\n",
    "```\n",
    "filename1=07_Assignment_3.ipynb\n",
    "local_scp_filepath1=~/git/iaml2017/${filename1}\n",
    "filename2=assignment_3_predictions.txt\n",
    "local_scp_filepath2=~/git/iaml2017/${filename2}\n",
    "UUN=s0816700\n",
    "server_address=student.ssh.inf.ed.ac.uk\n",
    "scp -r ${local_scp_filepath1} ${UUN}@${server_address}:${filename1}\n",
    "scp -r ${local_scp_filepath2} ${UUN}@${server_address}:${filename2}\n",
    "# rsync -rl ${local_scp_filepath1} ${UUN}@${server_address}:${filename1}\n",
    "# rsync -rl ${local_scp_filepath2} ${UUN}@${server_address}:${filename2}\n",
    "ssh ${UUN}@${server_address}\n",
    "ssh student.login\n",
    "submit iaml cw2 07_Assignment_3.ipynb assignment_3_predictions.txt\n",
    "```\n",
    "\n",
    "**Late submissions:** The policy stated in the School of Informatics MSc Degree Guide is that normally you will not be allowed to submit coursework late. See http://www.inf.ed.ac.uk/teaching/years/msc/courseguide10.html#exam for exceptions to this, e.g. in case of serious medical illness or serious personal problems.\n",
    "\n",
    "**Collaboration:** You may discuss the assignment with your colleagues, provided that the writing that you submit is entirely your own. That is, you should NOT borrow actual text or code from other students. We ask that you provide a list of the people who you've had discussions with (if any).\n",
    "\n",
    "**Resubmission:** If you submit your file again, the previous submission is **overwritten**. We will mark the version that is in the submission folder at the deadline."
   ]
  },
  {
   "cell_type": "markdown",
   "metadata": {},
   "source": [
    "## Important Instructions\n",
    "\n",
    "1. You *MUST* have your environment set up as in the [README](https://github.com/JamesOwers/iaml2017) and you *must activate this environment before running this notebook*:\n",
    "```\n",
    "source activate iaml\n",
    "cd iaml_2017\n",
    "jupyter notebook\n",
    "# Navigate to this file\n",
    "```\n",
    "\n",
    "1. Wherever you are required to produce code you should use code cells, otherwise you should use markdown cells to report results and explain answers.\n",
    "\n",
    "1. The .csv files that you will be using are located at `./datasets` (the `datasets` directory is adjacent to this file).\n",
    "\n",
    "1. **IMPORTANT:** Keep your answers brief and concise. Most written questions can be answered with 2-3 lines of explanation."
   ]
  },
  {
   "cell_type": "markdown",
   "metadata": {},
   "source": [
    "## Imports\n",
    "\n",
    "Include all required imports and execute the cell below. It's typical to include package imports at the top of the file for clarity."
   ]
  },
  {
   "cell_type": "code",
   "execution_count": 2,
   "metadata": {},
   "outputs": [
    {
     "name": "stderr",
     "output_type": "stream",
     "text": [
      "/home/chienyu/anaconda2/envs/iaml/lib/python2.7/site-packages/sklearn/cross_validation.py:41: DeprecationWarning: This module was deprecated in version 0.18 in favor of the model_selection module into which all the refactored classes and functions are moved. Also note that the interface of the new CV iterators are different from that of this module. This module will be removed in 0.20.\n",
      "  \"This module will be removed in 0.20.\", DeprecationWarning)\n"
     ]
    }
   ],
   "source": [
    "from __future__ import print_function, division\n",
    "%matplotlib inline\n",
    "import os\n",
    "import numpy as np \n",
    "import pandas as pd\n",
    "import matplotlib.pyplot as plt\n",
    "from pylab import *\n",
    "import seaborn as sns\n",
    "from sklearn.linear_model import LogisticRegression, LogisticRegressionCV\n",
    "from sklearn.preprocessing import StandardScaler\n",
    "from sklearn.cross_validation import KFold\n",
    "from sklearn.ensemble import RandomForestClassifier\n",
    "from sklearn.svm import SVC\n",
    "from sklearn.metrics import log_loss"
   ]
  },
  {
   "cell_type": "markdown",
   "metadata": {},
   "source": [
    "## Description of the dataset\n",
    "In this assignment our goal is to recognize objects in images of realistic scenes. There are 19 different classes of object e.g. person, dog, cat, car, etc. The dataset derives from several thousands photographs harvested from the web. Each object of a relevant class has been manually annotated with a bounding box. Images can contain none, one or multiple objects of each class. We have prepared a [website](http://www.inf.ed.ac.uk/teaching/courses/iaml/2014/assts/asst3/images.html) where you can view the images.\n",
    "\n",
    "We are going to detect whether images contain a person or not - a binary classification problem. To save you time and to make the problem manageable with limited computational resources, we have preprocessed the dataset. We will use the [Bag of Visual Words](https://en.wikipedia.org/wiki/Bag-of-words_model_in_computer_vision) representation. Each column of the dataset (which is not an lable), refers to a 'visual word'. Each image is represented by a 500 dimensional vector that contains the normalized count for each of 500 different visual words present in the respective image (a similar representation is used for the spambase dataset, just for real words). See the Appendix at the bottom of the notebook for more information. The image data is thus a $N \\times 500$ dimensional matrix where `N` is the number of images.\n",
    "\n",
    "The full dataset has 520 attributes (dimensions). The first attribute (`imgID`) contains the image ID which allows you to associate a data point with an actual image. The next 500 attributes (`dim1`, ..., `dim500`) are a normalized count vector for each visual word. The last 19 attributes (`is_class`) are the labels - 1 means the class is present in the image. In most of the experiments (unless explicitly noted otherwise) you will only need the `is_person` attribute and the 500 dimensional feature vector. **Do not use the additional class indicator attributes as features** unless explicitly told to do so. \n",
    "\n",
    "In Part A we provide you with a training (`train_images partA.csv`) and a validation (`valid_images partA .csv`) dataset. In Part B we provide three data sets: a training set (`train_images partB.csv`), a validation set (`valid_images partB.csv`), and a test set (`test_images partB.csv`). The training and validation set contain valid labels. In the test set the labels are missing. The files are available from the GitHub repository. \n",
    "\n",
    "**Important**: *Throughout the assignment you will be given various versions of the dataset that are relevant\n",
    "to a particular question. Please be careful to use the correct version of the dataset when instructed to do so.\n",
    "If you use the wrong version of the dataset by mistake no marks will be awarded.*"
   ]
  },
  {
   "cell_type": "markdown",
   "metadata": {},
   "source": [
    "## 1. Exploration of the dataset [70%]"
   ]
  },
  {
   "cell_type": "markdown",
   "metadata": {},
   "source": [
    "### ========== Question 1.1 --- [1 mark] ==========\n",
    "Create two Pandas DataFrame objects called `train_A` and `valid_A` by loading the datasets `train_images_partA.csv` and `valid_images_partA.csv`. Display the number of data points and attributes in each of the two datasets."
   ]
  },
  {
   "cell_type": "code",
   "execution_count": 13,
   "metadata": {
    "scrolled": true
   },
   "outputs": [
    {
     "name": "stdout",
     "output_type": "stream",
     "text": [
      "Number of instances: 2093, number of attributes: 520\n",
      "Number of instances: 1113, number of attributes: 520\n"
     ]
    }
   ],
   "source": [
    "# Your code goes here\n",
    "data_path = os.path.join(os.getcwd(), 'datasets', 'train_images_partA.csv')\n",
    "train_A = pd.read_csv(data_path, delimiter = ',')\n",
    "data_path = os.path.join(os.getcwd(), 'datasets', 'valid_images_partA.csv')\n",
    "valid_A = pd.read_csv(data_path, delimiter = ',')\n",
    "print('Number of instances: {}, number of attributes: {}'.format(train_A.shape[0], train_A.shape[1]))\n",
    "print('Number of instances: {}, number of attributes: {}'.format(valid_A.shape[0], valid_A.shape[1]))"
   ]
  },
  {
   "cell_type": "markdown",
   "metadata": {},
   "source": [
    "### ========== Question 1.2 --- [1 mark] ==========\n",
    "Display and inspect the first 10 instances in the training dataset."
   ]
  },
  {
   "cell_type": "code",
   "execution_count": 13,
   "metadata": {},
   "outputs": [
    {
     "data": {
      "text/html": [
       "<div>\n",
       "<style>\n",
       "    .dataframe thead tr:only-child th {\n",
       "        text-align: right;\n",
       "    }\n",
       "\n",
       "    .dataframe thead th {\n",
       "        text-align: left;\n",
       "    }\n",
       "\n",
       "    .dataframe tbody tr th {\n",
       "        vertical-align: top;\n",
       "    }\n",
       "</style>\n",
       "<table border=\"1\" class=\"dataframe\">\n",
       "  <thead>\n",
       "    <tr style=\"text-align: right;\">\n",
       "      <th></th>\n",
       "      <th>imgId</th>\n",
       "      <th>dim1</th>\n",
       "      <th>dim2</th>\n",
       "      <th>dim3</th>\n",
       "      <th>dim4</th>\n",
       "      <th>dim5</th>\n",
       "      <th>dim6</th>\n",
       "      <th>dim7</th>\n",
       "      <th>dim8</th>\n",
       "      <th>dim9</th>\n",
       "      <th>...</th>\n",
       "      <th>is_cow</th>\n",
       "      <th>is_diningtable</th>\n",
       "      <th>is_dog</th>\n",
       "      <th>is_horse</th>\n",
       "      <th>is_motorbike</th>\n",
       "      <th>is_person</th>\n",
       "      <th>is_pottedplant</th>\n",
       "      <th>is_sheep</th>\n",
       "      <th>is_sofa</th>\n",
       "      <th>is_tvmonitor</th>\n",
       "    </tr>\n",
       "  </thead>\n",
       "  <tbody>\n",
       "    <tr>\n",
       "      <th>0</th>\n",
       "      <td>2008_000008</td>\n",
       "      <td>0.002232</td>\n",
       "      <td>0.000558</td>\n",
       "      <td>0.002790</td>\n",
       "      <td>0.000837</td>\n",
       "      <td>0.001674</td>\n",
       "      <td>0.001953</td>\n",
       "      <td>0.001395</td>\n",
       "      <td>0.002232</td>\n",
       "      <td>0.003627</td>\n",
       "      <td>...</td>\n",
       "      <td>0</td>\n",
       "      <td>0</td>\n",
       "      <td>0</td>\n",
       "      <td>1</td>\n",
       "      <td>0</td>\n",
       "      <td>1</td>\n",
       "      <td>0</td>\n",
       "      <td>0</td>\n",
       "      <td>0</td>\n",
       "      <td>0</td>\n",
       "    </tr>\n",
       "    <tr>\n",
       "      <th>1</th>\n",
       "      <td>2008_000015</td>\n",
       "      <td>0.001563</td>\n",
       "      <td>0.000391</td>\n",
       "      <td>0.007422</td>\n",
       "      <td>0.003516</td>\n",
       "      <td>0.003906</td>\n",
       "      <td>0.005078</td>\n",
       "      <td>0.001953</td>\n",
       "      <td>0.002344</td>\n",
       "      <td>0.001953</td>\n",
       "      <td>...</td>\n",
       "      <td>0</td>\n",
       "      <td>0</td>\n",
       "      <td>0</td>\n",
       "      <td>0</td>\n",
       "      <td>0</td>\n",
       "      <td>0</td>\n",
       "      <td>0</td>\n",
       "      <td>0</td>\n",
       "      <td>0</td>\n",
       "      <td>0</td>\n",
       "    </tr>\n",
       "    <tr>\n",
       "      <th>2</th>\n",
       "      <td>2008_000019</td>\n",
       "      <td>0.000521</td>\n",
       "      <td>0.000000</td>\n",
       "      <td>0.000000</td>\n",
       "      <td>0.001042</td>\n",
       "      <td>0.001563</td>\n",
       "      <td>0.005729</td>\n",
       "      <td>0.000521</td>\n",
       "      <td>0.002083</td>\n",
       "      <td>0.003646</td>\n",
       "      <td>...</td>\n",
       "      <td>0</td>\n",
       "      <td>0</td>\n",
       "      <td>1</td>\n",
       "      <td>0</td>\n",
       "      <td>0</td>\n",
       "      <td>0</td>\n",
       "      <td>0</td>\n",
       "      <td>0</td>\n",
       "      <td>0</td>\n",
       "      <td>0</td>\n",
       "    </tr>\n",
       "    <tr>\n",
       "      <th>3</th>\n",
       "      <td>2008_000023</td>\n",
       "      <td>0.002976</td>\n",
       "      <td>0.002232</td>\n",
       "      <td>0.004464</td>\n",
       "      <td>0.000372</td>\n",
       "      <td>0.000372</td>\n",
       "      <td>0.002232</td>\n",
       "      <td>0.000000</td>\n",
       "      <td>0.003720</td>\n",
       "      <td>0.000000</td>\n",
       "      <td>...</td>\n",
       "      <td>0</td>\n",
       "      <td>0</td>\n",
       "      <td>0</td>\n",
       "      <td>0</td>\n",
       "      <td>0</td>\n",
       "      <td>1</td>\n",
       "      <td>0</td>\n",
       "      <td>0</td>\n",
       "      <td>0</td>\n",
       "      <td>1</td>\n",
       "    </tr>\n",
       "    <tr>\n",
       "      <th>4</th>\n",
       "      <td>2008_000028</td>\n",
       "      <td>0.001359</td>\n",
       "      <td>0.000340</td>\n",
       "      <td>0.001359</td>\n",
       "      <td>0.000340</td>\n",
       "      <td>0.001359</td>\n",
       "      <td>0.002038</td>\n",
       "      <td>0.002378</td>\n",
       "      <td>0.000000</td>\n",
       "      <td>0.003397</td>\n",
       "      <td>...</td>\n",
       "      <td>0</td>\n",
       "      <td>0</td>\n",
       "      <td>0</td>\n",
       "      <td>0</td>\n",
       "      <td>0</td>\n",
       "      <td>0</td>\n",
       "      <td>0</td>\n",
       "      <td>0</td>\n",
       "      <td>0</td>\n",
       "      <td>0</td>\n",
       "    </tr>\n",
       "    <tr>\n",
       "      <th>5</th>\n",
       "      <td>2008_000033</td>\n",
       "      <td>0.000000</td>\n",
       "      <td>0.006324</td>\n",
       "      <td>0.000372</td>\n",
       "      <td>0.000372</td>\n",
       "      <td>0.000372</td>\n",
       "      <td>0.000372</td>\n",
       "      <td>0.000744</td>\n",
       "      <td>0.008185</td>\n",
       "      <td>0.000372</td>\n",
       "      <td>...</td>\n",
       "      <td>0</td>\n",
       "      <td>0</td>\n",
       "      <td>0</td>\n",
       "      <td>0</td>\n",
       "      <td>0</td>\n",
       "      <td>0</td>\n",
       "      <td>0</td>\n",
       "      <td>0</td>\n",
       "      <td>0</td>\n",
       "      <td>0</td>\n",
       "    </tr>\n",
       "    <tr>\n",
       "      <th>6</th>\n",
       "      <td>2008_000036</td>\n",
       "      <td>0.000340</td>\n",
       "      <td>0.000000</td>\n",
       "      <td>0.004416</td>\n",
       "      <td>0.000340</td>\n",
       "      <td>0.000679</td>\n",
       "      <td>0.006114</td>\n",
       "      <td>0.001359</td>\n",
       "      <td>0.002717</td>\n",
       "      <td>0.003057</td>\n",
       "      <td>...</td>\n",
       "      <td>0</td>\n",
       "      <td>0</td>\n",
       "      <td>0</td>\n",
       "      <td>0</td>\n",
       "      <td>0</td>\n",
       "      <td>1</td>\n",
       "      <td>0</td>\n",
       "      <td>0</td>\n",
       "      <td>0</td>\n",
       "      <td>0</td>\n",
       "    </tr>\n",
       "    <tr>\n",
       "      <th>7</th>\n",
       "      <td>2008_000037</td>\n",
       "      <td>0.000837</td>\n",
       "      <td>0.002232</td>\n",
       "      <td>0.000279</td>\n",
       "      <td>0.000279</td>\n",
       "      <td>0.000837</td>\n",
       "      <td>0.000000</td>\n",
       "      <td>0.000279</td>\n",
       "      <td>0.006696</td>\n",
       "      <td>0.000000</td>\n",
       "      <td>...</td>\n",
       "      <td>0</td>\n",
       "      <td>0</td>\n",
       "      <td>0</td>\n",
       "      <td>0</td>\n",
       "      <td>0</td>\n",
       "      <td>0</td>\n",
       "      <td>0</td>\n",
       "      <td>0</td>\n",
       "      <td>0</td>\n",
       "      <td>0</td>\n",
       "    </tr>\n",
       "    <tr>\n",
       "      <th>8</th>\n",
       "      <td>2008_000041</td>\n",
       "      <td>0.002378</td>\n",
       "      <td>0.001359</td>\n",
       "      <td>0.004755</td>\n",
       "      <td>0.001019</td>\n",
       "      <td>0.003736</td>\n",
       "      <td>0.001359</td>\n",
       "      <td>0.001019</td>\n",
       "      <td>0.004076</td>\n",
       "      <td>0.003397</td>\n",
       "      <td>...</td>\n",
       "      <td>0</td>\n",
       "      <td>1</td>\n",
       "      <td>0</td>\n",
       "      <td>0</td>\n",
       "      <td>0</td>\n",
       "      <td>1</td>\n",
       "      <td>0</td>\n",
       "      <td>0</td>\n",
       "      <td>0</td>\n",
       "      <td>0</td>\n",
       "    </tr>\n",
       "    <tr>\n",
       "      <th>9</th>\n",
       "      <td>2008_000045</td>\n",
       "      <td>0.001019</td>\n",
       "      <td>0.000340</td>\n",
       "      <td>0.006454</td>\n",
       "      <td>0.001698</td>\n",
       "      <td>0.001359</td>\n",
       "      <td>0.003736</td>\n",
       "      <td>0.000000</td>\n",
       "      <td>0.004076</td>\n",
       "      <td>0.000000</td>\n",
       "      <td>...</td>\n",
       "      <td>0</td>\n",
       "      <td>0</td>\n",
       "      <td>0</td>\n",
       "      <td>0</td>\n",
       "      <td>0</td>\n",
       "      <td>0</td>\n",
       "      <td>0</td>\n",
       "      <td>0</td>\n",
       "      <td>0</td>\n",
       "      <td>0</td>\n",
       "    </tr>\n",
       "  </tbody>\n",
       "</table>\n",
       "<p>10 rows × 520 columns</p>\n",
       "</div>"
      ],
      "text/plain": [
       "         imgId      dim1      dim2      dim3      dim4      dim5      dim6  \\\n",
       "0  2008_000008  0.002232  0.000558  0.002790  0.000837  0.001674  0.001953   \n",
       "1  2008_000015  0.001563  0.000391  0.007422  0.003516  0.003906  0.005078   \n",
       "2  2008_000019  0.000521  0.000000  0.000000  0.001042  0.001563  0.005729   \n",
       "3  2008_000023  0.002976  0.002232  0.004464  0.000372  0.000372  0.002232   \n",
       "4  2008_000028  0.001359  0.000340  0.001359  0.000340  0.001359  0.002038   \n",
       "5  2008_000033  0.000000  0.006324  0.000372  0.000372  0.000372  0.000372   \n",
       "6  2008_000036  0.000340  0.000000  0.004416  0.000340  0.000679  0.006114   \n",
       "7  2008_000037  0.000837  0.002232  0.000279  0.000279  0.000837  0.000000   \n",
       "8  2008_000041  0.002378  0.001359  0.004755  0.001019  0.003736  0.001359   \n",
       "9  2008_000045  0.001019  0.000340  0.006454  0.001698  0.001359  0.003736   \n",
       "\n",
       "       dim7      dim8      dim9      ...       is_cow  is_diningtable  is_dog  \\\n",
       "0  0.001395  0.002232  0.003627      ...            0               0       0   \n",
       "1  0.001953  0.002344  0.001953      ...            0               0       0   \n",
       "2  0.000521  0.002083  0.003646      ...            0               0       1   \n",
       "3  0.000000  0.003720  0.000000      ...            0               0       0   \n",
       "4  0.002378  0.000000  0.003397      ...            0               0       0   \n",
       "5  0.000744  0.008185  0.000372      ...            0               0       0   \n",
       "6  0.001359  0.002717  0.003057      ...            0               0       0   \n",
       "7  0.000279  0.006696  0.000000      ...            0               0       0   \n",
       "8  0.001019  0.004076  0.003397      ...            0               1       0   \n",
       "9  0.000000  0.004076  0.000000      ...            0               0       0   \n",
       "\n",
       "   is_horse  is_motorbike  is_person  is_pottedplant  is_sheep  is_sofa  \\\n",
       "0         1             0          1               0         0        0   \n",
       "1         0             0          0               0         0        0   \n",
       "2         0             0          0               0         0        0   \n",
       "3         0             0          1               0         0        0   \n",
       "4         0             0          0               0         0        0   \n",
       "5         0             0          0               0         0        0   \n",
       "6         0             0          1               0         0        0   \n",
       "7         0             0          0               0         0        0   \n",
       "8         0             0          1               0         0        0   \n",
       "9         0             0          0               0         0        0   \n",
       "\n",
       "   is_tvmonitor  \n",
       "0             0  \n",
       "1             0  \n",
       "2             0  \n",
       "3             1  \n",
       "4             0  \n",
       "5             0  \n",
       "6             0  \n",
       "7             0  \n",
       "8             0  \n",
       "9             0  \n",
       "\n",
       "[10 rows x 520 columns]"
      ]
     },
     "execution_count": 13,
     "metadata": {},
     "output_type": "execute_result"
    }
   ],
   "source": [
    "# Your code goes here\n",
    "train_A.head(10)"
   ]
  },
  {
   "cell_type": "markdown",
   "metadata": {},
   "source": [
    "### ========== Question 1.3 --- [1 mark] ==========\n",
    "Select the attributes (i.e. input features) for training our classifiers. These should be the visual word normalised counts `dim1, dim2, ..., dim500`. Create a list of the **names** of the attributes of interest. "
   ]
  },
  {
   "cell_type": "code",
   "execution_count": 15,
   "metadata": {
    "scrolled": false
   },
   "outputs": [
    {
     "data": {
      "text/plain": [
       "['dim1',\n",
       " 'dim2',\n",
       " 'dim3',\n",
       " 'dim4',\n",
       " 'dim5',\n",
       " 'dim6',\n",
       " 'dim7',\n",
       " 'dim8',\n",
       " 'dim9',\n",
       " 'dim10',\n",
       " 'dim11',\n",
       " 'dim12',\n",
       " 'dim13',\n",
       " 'dim14',\n",
       " 'dim15',\n",
       " 'dim16',\n",
       " 'dim17',\n",
       " 'dim18',\n",
       " 'dim19',\n",
       " 'dim20',\n",
       " 'dim21',\n",
       " 'dim22',\n",
       " 'dim23',\n",
       " 'dim24',\n",
       " 'dim25',\n",
       " 'dim26',\n",
       " 'dim27',\n",
       " 'dim28',\n",
       " 'dim29',\n",
       " 'dim30',\n",
       " 'dim31',\n",
       " 'dim32',\n",
       " 'dim33',\n",
       " 'dim34',\n",
       " 'dim35',\n",
       " 'dim36',\n",
       " 'dim37',\n",
       " 'dim38',\n",
       " 'dim39',\n",
       " 'dim40',\n",
       " 'dim41',\n",
       " 'dim42',\n",
       " 'dim43',\n",
       " 'dim44',\n",
       " 'dim45',\n",
       " 'dim46',\n",
       " 'dim47',\n",
       " 'dim48',\n",
       " 'dim49',\n",
       " 'dim50',\n",
       " 'dim51',\n",
       " 'dim52',\n",
       " 'dim53',\n",
       " 'dim54',\n",
       " 'dim55',\n",
       " 'dim56',\n",
       " 'dim57',\n",
       " 'dim58',\n",
       " 'dim59',\n",
       " 'dim60',\n",
       " 'dim61',\n",
       " 'dim62',\n",
       " 'dim63',\n",
       " 'dim64',\n",
       " 'dim65',\n",
       " 'dim66',\n",
       " 'dim67',\n",
       " 'dim68',\n",
       " 'dim69',\n",
       " 'dim70',\n",
       " 'dim71',\n",
       " 'dim72',\n",
       " 'dim73',\n",
       " 'dim74',\n",
       " 'dim75',\n",
       " 'dim76',\n",
       " 'dim77',\n",
       " 'dim78',\n",
       " 'dim79',\n",
       " 'dim80',\n",
       " 'dim81',\n",
       " 'dim82',\n",
       " 'dim83',\n",
       " 'dim84',\n",
       " 'dim85',\n",
       " 'dim86',\n",
       " 'dim87',\n",
       " 'dim88',\n",
       " 'dim89',\n",
       " 'dim90',\n",
       " 'dim91',\n",
       " 'dim92',\n",
       " 'dim93',\n",
       " 'dim94',\n",
       " 'dim95',\n",
       " 'dim96',\n",
       " 'dim97',\n",
       " 'dim98',\n",
       " 'dim99',\n",
       " 'dim100',\n",
       " 'dim101',\n",
       " 'dim102',\n",
       " 'dim103',\n",
       " 'dim104',\n",
       " 'dim105',\n",
       " 'dim106',\n",
       " 'dim107',\n",
       " 'dim108',\n",
       " 'dim109',\n",
       " 'dim110',\n",
       " 'dim111',\n",
       " 'dim112',\n",
       " 'dim113',\n",
       " 'dim114',\n",
       " 'dim115',\n",
       " 'dim116',\n",
       " 'dim117',\n",
       " 'dim118',\n",
       " 'dim119',\n",
       " 'dim120',\n",
       " 'dim121',\n",
       " 'dim122',\n",
       " 'dim123',\n",
       " 'dim124',\n",
       " 'dim125',\n",
       " 'dim126',\n",
       " 'dim127',\n",
       " 'dim128',\n",
       " 'dim129',\n",
       " 'dim130',\n",
       " 'dim131',\n",
       " 'dim132',\n",
       " 'dim133',\n",
       " 'dim134',\n",
       " 'dim135',\n",
       " 'dim136',\n",
       " 'dim137',\n",
       " 'dim138',\n",
       " 'dim139',\n",
       " 'dim140',\n",
       " 'dim141',\n",
       " 'dim142',\n",
       " 'dim143',\n",
       " 'dim144',\n",
       " 'dim145',\n",
       " 'dim146',\n",
       " 'dim147',\n",
       " 'dim148',\n",
       " 'dim149',\n",
       " 'dim150',\n",
       " 'dim151',\n",
       " 'dim152',\n",
       " 'dim153',\n",
       " 'dim154',\n",
       " 'dim155',\n",
       " 'dim156',\n",
       " 'dim157',\n",
       " 'dim158',\n",
       " 'dim159',\n",
       " 'dim160',\n",
       " 'dim161',\n",
       " 'dim162',\n",
       " 'dim163',\n",
       " 'dim164',\n",
       " 'dim165',\n",
       " 'dim166',\n",
       " 'dim167',\n",
       " 'dim168',\n",
       " 'dim169',\n",
       " 'dim170',\n",
       " 'dim171',\n",
       " 'dim172',\n",
       " 'dim173',\n",
       " 'dim174',\n",
       " 'dim175',\n",
       " 'dim176',\n",
       " 'dim177',\n",
       " 'dim178',\n",
       " 'dim179',\n",
       " 'dim180',\n",
       " 'dim181',\n",
       " 'dim182',\n",
       " 'dim183',\n",
       " 'dim184',\n",
       " 'dim185',\n",
       " 'dim186',\n",
       " 'dim187',\n",
       " 'dim188',\n",
       " 'dim189',\n",
       " 'dim190',\n",
       " 'dim191',\n",
       " 'dim192',\n",
       " 'dim193',\n",
       " 'dim194',\n",
       " 'dim195',\n",
       " 'dim196',\n",
       " 'dim197',\n",
       " 'dim198',\n",
       " 'dim199',\n",
       " 'dim200',\n",
       " 'dim201',\n",
       " 'dim202',\n",
       " 'dim203',\n",
       " 'dim204',\n",
       " 'dim205',\n",
       " 'dim206',\n",
       " 'dim207',\n",
       " 'dim208',\n",
       " 'dim209',\n",
       " 'dim210',\n",
       " 'dim211',\n",
       " 'dim212',\n",
       " 'dim213',\n",
       " 'dim214',\n",
       " 'dim215',\n",
       " 'dim216',\n",
       " 'dim217',\n",
       " 'dim218',\n",
       " 'dim219',\n",
       " 'dim220',\n",
       " 'dim221',\n",
       " 'dim222',\n",
       " 'dim223',\n",
       " 'dim224',\n",
       " 'dim225',\n",
       " 'dim226',\n",
       " 'dim227',\n",
       " 'dim228',\n",
       " 'dim229',\n",
       " 'dim230',\n",
       " 'dim231',\n",
       " 'dim232',\n",
       " 'dim233',\n",
       " 'dim234',\n",
       " 'dim235',\n",
       " 'dim236',\n",
       " 'dim237',\n",
       " 'dim238',\n",
       " 'dim239',\n",
       " 'dim240',\n",
       " 'dim241',\n",
       " 'dim242',\n",
       " 'dim243',\n",
       " 'dim244',\n",
       " 'dim245',\n",
       " 'dim246',\n",
       " 'dim247',\n",
       " 'dim248',\n",
       " 'dim249',\n",
       " 'dim250',\n",
       " 'dim251',\n",
       " 'dim252',\n",
       " 'dim253',\n",
       " 'dim254',\n",
       " 'dim255',\n",
       " 'dim256',\n",
       " 'dim257',\n",
       " 'dim258',\n",
       " 'dim259',\n",
       " 'dim260',\n",
       " 'dim261',\n",
       " 'dim262',\n",
       " 'dim263',\n",
       " 'dim264',\n",
       " 'dim265',\n",
       " 'dim266',\n",
       " 'dim267',\n",
       " 'dim268',\n",
       " 'dim269',\n",
       " 'dim270',\n",
       " 'dim271',\n",
       " 'dim272',\n",
       " 'dim273',\n",
       " 'dim274',\n",
       " 'dim275',\n",
       " 'dim276',\n",
       " 'dim277',\n",
       " 'dim278',\n",
       " 'dim279',\n",
       " 'dim280',\n",
       " 'dim281',\n",
       " 'dim282',\n",
       " 'dim283',\n",
       " 'dim284',\n",
       " 'dim285',\n",
       " 'dim286',\n",
       " 'dim287',\n",
       " 'dim288',\n",
       " 'dim289',\n",
       " 'dim290',\n",
       " 'dim291',\n",
       " 'dim292',\n",
       " 'dim293',\n",
       " 'dim294',\n",
       " 'dim295',\n",
       " 'dim296',\n",
       " 'dim297',\n",
       " 'dim298',\n",
       " 'dim299',\n",
       " 'dim300',\n",
       " 'dim301',\n",
       " 'dim302',\n",
       " 'dim303',\n",
       " 'dim304',\n",
       " 'dim305',\n",
       " 'dim306',\n",
       " 'dim307',\n",
       " 'dim308',\n",
       " 'dim309',\n",
       " 'dim310',\n",
       " 'dim311',\n",
       " 'dim312',\n",
       " 'dim313',\n",
       " 'dim314',\n",
       " 'dim315',\n",
       " 'dim316',\n",
       " 'dim317',\n",
       " 'dim318',\n",
       " 'dim319',\n",
       " 'dim320',\n",
       " 'dim321',\n",
       " 'dim322',\n",
       " 'dim323',\n",
       " 'dim324',\n",
       " 'dim325',\n",
       " 'dim326',\n",
       " 'dim327',\n",
       " 'dim328',\n",
       " 'dim329',\n",
       " 'dim330',\n",
       " 'dim331',\n",
       " 'dim332',\n",
       " 'dim333',\n",
       " 'dim334',\n",
       " 'dim335',\n",
       " 'dim336',\n",
       " 'dim337',\n",
       " 'dim338',\n",
       " 'dim339',\n",
       " 'dim340',\n",
       " 'dim341',\n",
       " 'dim342',\n",
       " 'dim343',\n",
       " 'dim344',\n",
       " 'dim345',\n",
       " 'dim346',\n",
       " 'dim347',\n",
       " 'dim348',\n",
       " 'dim349',\n",
       " 'dim350',\n",
       " 'dim351',\n",
       " 'dim352',\n",
       " 'dim353',\n",
       " 'dim354',\n",
       " 'dim355',\n",
       " 'dim356',\n",
       " 'dim357',\n",
       " 'dim358',\n",
       " 'dim359',\n",
       " 'dim360',\n",
       " 'dim361',\n",
       " 'dim362',\n",
       " 'dim363',\n",
       " 'dim364',\n",
       " 'dim365',\n",
       " 'dim366',\n",
       " 'dim367',\n",
       " 'dim368',\n",
       " 'dim369',\n",
       " 'dim370',\n",
       " 'dim371',\n",
       " 'dim372',\n",
       " 'dim373',\n",
       " 'dim374',\n",
       " 'dim375',\n",
       " 'dim376',\n",
       " 'dim377',\n",
       " 'dim378',\n",
       " 'dim379',\n",
       " 'dim380',\n",
       " 'dim381',\n",
       " 'dim382',\n",
       " 'dim383',\n",
       " 'dim384',\n",
       " 'dim385',\n",
       " 'dim386',\n",
       " 'dim387',\n",
       " 'dim388',\n",
       " 'dim389',\n",
       " 'dim390',\n",
       " 'dim391',\n",
       " 'dim392',\n",
       " 'dim393',\n",
       " 'dim394',\n",
       " 'dim395',\n",
       " 'dim396',\n",
       " 'dim397',\n",
       " 'dim398',\n",
       " 'dim399',\n",
       " 'dim400',\n",
       " 'dim401',\n",
       " 'dim402',\n",
       " 'dim403',\n",
       " 'dim404',\n",
       " 'dim405',\n",
       " 'dim406',\n",
       " 'dim407',\n",
       " 'dim408',\n",
       " 'dim409',\n",
       " 'dim410',\n",
       " 'dim411',\n",
       " 'dim412',\n",
       " 'dim413',\n",
       " 'dim414',\n",
       " 'dim415',\n",
       " 'dim416',\n",
       " 'dim417',\n",
       " 'dim418',\n",
       " 'dim419',\n",
       " 'dim420',\n",
       " 'dim421',\n",
       " 'dim422',\n",
       " 'dim423',\n",
       " 'dim424',\n",
       " 'dim425',\n",
       " 'dim426',\n",
       " 'dim427',\n",
       " 'dim428',\n",
       " 'dim429',\n",
       " 'dim430',\n",
       " 'dim431',\n",
       " 'dim432',\n",
       " 'dim433',\n",
       " 'dim434',\n",
       " 'dim435',\n",
       " 'dim436',\n",
       " 'dim437',\n",
       " 'dim438',\n",
       " 'dim439',\n",
       " 'dim440',\n",
       " 'dim441',\n",
       " 'dim442',\n",
       " 'dim443',\n",
       " 'dim444',\n",
       " 'dim445',\n",
       " 'dim446',\n",
       " 'dim447',\n",
       " 'dim448',\n",
       " 'dim449',\n",
       " 'dim450',\n",
       " 'dim451',\n",
       " 'dim452',\n",
       " 'dim453',\n",
       " 'dim454',\n",
       " 'dim455',\n",
       " 'dim456',\n",
       " 'dim457',\n",
       " 'dim458',\n",
       " 'dim459',\n",
       " 'dim460',\n",
       " 'dim461',\n",
       " 'dim462',\n",
       " 'dim463',\n",
       " 'dim464',\n",
       " 'dim465',\n",
       " 'dim466',\n",
       " 'dim467',\n",
       " 'dim468',\n",
       " 'dim469',\n",
       " 'dim470',\n",
       " 'dim471',\n",
       " 'dim472',\n",
       " 'dim473',\n",
       " 'dim474',\n",
       " 'dim475',\n",
       " 'dim476',\n",
       " 'dim477',\n",
       " 'dim478',\n",
       " 'dim479',\n",
       " 'dim480',\n",
       " 'dim481',\n",
       " 'dim482',\n",
       " 'dim483',\n",
       " 'dim484',\n",
       " 'dim485',\n",
       " 'dim486',\n",
       " 'dim487',\n",
       " 'dim488',\n",
       " 'dim489',\n",
       " 'dim490',\n",
       " 'dim491',\n",
       " 'dim492',\n",
       " 'dim493',\n",
       " 'dim494',\n",
       " 'dim495',\n",
       " 'dim496',\n",
       " 'dim497',\n",
       " 'dim498',\n",
       " 'dim499',\n",
       " 'dim500']"
      ]
     },
     "execution_count": 15,
     "metadata": {},
     "output_type": "execute_result"
    }
   ],
   "source": [
    "# Your code goes here\n",
    "names = list(train_A.iloc[:0,1:501])\n",
    "names"
   ]
  },
  {
   "cell_type": "markdown",
   "metadata": {},
   "source": [
    "### ========== Question 1.4 --- [1 mark] ==========\n",
    "By using the list from Question 1.3 now create 4 numpy arrays `X_tr`, `X_val`, `y_tr` and `y_val` in which to store the training features, validation features, training targets, and validation targets, respectively. Your target vectors should correspond to the `is_person` attribute of the training and validation sets. Display the dimensionalities (i.e shapes) of the 4 arrays. \n",
    "\n",
    "Check this carefully - you will be penalised in following questions if the data is not correct!"
   ]
  },
  {
   "cell_type": "code",
   "execution_count": 16,
   "metadata": {},
   "outputs": [
    {
     "name": "stdout",
     "output_type": "stream",
     "text": [
      "Number of data points and attributes in training set: 2093 and 500\n",
      "Number of data points in training set(target): 2093\n",
      "Number of data points and attributes in validation set: 1113 and 500\n",
      "Number of data points in validation set(target): 1113\n"
     ]
    }
   ],
   "source": [
    "# Your code goes here\n",
    "X_tr = train_A.iloc[:,1:501] #training features\n",
    "X_val = valid_A.iloc[:,1:501]   #validation features\n",
    "y_tr = train_A[\"is_person\"]   #training targets\n",
    "y_val = valid_A[\"is_person\"]  #validation targets\n",
    "print(\"Number of data points and attributes in training set: {} and {}\".format(X_tr.shape[0],X_tr.shape[1]))\n",
    "print(\"Number of data points in training set(target): {}\".format(y_tr.shape[0]))\n",
    "print(\"Number of data points and attributes in validation set: {} and {}\".format(X_val.shape[0], X_val.shape[1]))\n",
    "print(\"Number of data points in validation set(target): {}\".format(y_val.shape[0]))\n"
   ]
  },
  {
   "cell_type": "markdown",
   "metadata": {},
   "source": [
    "### ========== Question 1.5 --- [2 marks] ==========\n",
    "Create a [countplots](https://seaborn.github.io/generated/seaborn.countplot.html?highlight=countplot#seaborn.countplot) for the training and validation targets. Create a single figure, and put the two plots inside the single figure. Label axes appropriately and add a title to your plot. Use descriptive `xticklabels` instead of the default numeric ones."
   ]
  },
  {
   "cell_type": "code",
   "execution_count": 10,
   "metadata": {
    "scrolled": true
   },
   "outputs": [
    {
     "data": {
      "text/plain": [
       "<matplotlib.text.Text at 0x7ff619b3bd90>"
      ]
     },
     "execution_count": 10,
     "metadata": {},
     "output_type": "execute_result"
    },
    {
     "data": {
      "image/png": "[encoded data removed]",
      "text/plain": [
       "<matplotlib.figure.Figure at 0x7ff619da1450>"
      ]
     },
     "metadata": {},
     "output_type": "display_data"
    }
   ],
   "source": [
    "# Your code goes here\n",
    "fig = plt.figure(figsize=(8,4))\n",
    "labels=[\"NO\",\"YES\"]\n",
    "ax1 = plt.subplot(1,2,1)\n",
    "ax1 = sns.countplot(x=y_tr, data = train_A)\n",
    "ax1.set_xticklabels(labels)\n",
    "ax1.set_title(\"training target\")\n",
    "                    \n",
    "ax2 = plt.subplot(1,2,2)\n",
    "ax2 = sns.countplot(x=y_val, data = valid_A)\n",
    "ax2.set_xticklabels(labels)\n",
    "ax2.set_title(\"validation target\")"
   ]
  },
  {
   "cell_type": "markdown",
   "metadata": {},
   "source": [
    "### ========== Question 1.6 --- [1 mark] ==========\n",
    "We want to make a baseline classification accuracy to beat. Pick a baseline \"dummy\" classifier, describe in a sentence why you chose it, and report the accuracy it achieves on the validation set?"
   ]
  },
  {
   "cell_type": "markdown",
   "metadata": {},
   "source": [
    "*Your answer goes here*\n",
    "\n",
    "The baseline dummy classifier always predicts the most frequent label in the training set, in this case which is 'NO'. However, in this data set, there are only two labels, which make the score of accuracy only get around 50%."
   ]
  },
  {
   "cell_type": "code",
   "execution_count": 17,
   "metadata": {},
   "outputs": [
    {
     "name": "stdout",
     "output_type": "stream",
     "text": [
      "TThe baseline classifier would achieve a classification accuracy score of: 0.55088389871\n"
     ]
    }
   ],
   "source": [
    "# Your code goes here\n",
    "class_counts = train_A[\"is_person\"].value_counts()\n",
    "print(\"TThe baseline classifier would achieve a classification accuracy score of: {}\".format(class_counts[0]/class_counts.values.sum()))"
   ]
  },
  {
   "cell_type": "markdown",
   "metadata": {},
   "source": [
    "### ========== Question 1.7 --- [3 marks] ==========\n",
    "Train a [`LogisticRegression`](http://scikit-learn.org/0.17/modules/generated/sklearn.linear_model.LogisticRegression.html) classifier using default settings, except for the `solver` parameter which you should set to `lbfgs`. Report the classification accuracy score on the training and validation sets and compare with the baseline. Comment on the results with 1-2 sentences. You may include any additional plot(s) if you wish to justify your explanation."
   ]
  },
  {
   "cell_type": "code",
   "execution_count": 14,
   "metadata": {},
   "outputs": [
    {
     "name": "stdout",
     "output_type": "stream",
     "text": [
      "Classification accuracy on training set: 0.55088389871\n",
      "Classification accuracy on test set: 0.526504941599\n"
     ]
    }
   ],
   "source": [
    "# Your code goes here\n",
    "LR = LogisticRegression(solver='lbfgs')\n",
    "LR.fit(X_tr, y_tr)\n",
    "print('Classification accuracy on training set: {}'.format(LR.score(X_tr, y_tr)))\n",
    "print('Classification accuracy on test set: {}'.format(LR.score(X_val, y_val)))"
   ]
  },
  {
   "cell_type": "markdown",
   "metadata": {},
   "source": [
    "*Your answer goes here*\n",
    "\n",
    "The classifier perform badly, same as the dummy classifier, they only get around 50% accuracy."
   ]
  },
  {
   "cell_type": "markdown",
   "metadata": {},
   "source": [
    "### ========== Question 1.8 --- [1 mark] ==========\n",
    "Display the means and standard deviations of the first 5 features in the training set. *Hint: you want to compute the means and standard deviations across the columns of your arrays. Make sure you make appropriate use of the `axis` parameter.*"
   ]
  },
  {
   "cell_type": "code",
   "execution_count": 15,
   "metadata": {},
   "outputs": [
    {
     "name": "stdout",
     "output_type": "stream",
     "text": [
      "The mean of the first 5 features\n",
      "dim1    0.001751\n",
      "dim2    0.000756\n",
      "dim3    0.004317\n",
      "dim4    0.001853\n",
      "dim5    0.002272\n",
      "dtype: float64\n",
      "The standard deviations of the first 5 features\n",
      "dim1    0.001193\n",
      "dim2    0.001406\n",
      "dim3    0.003693\n",
      "dim4    0.001340\n",
      "dim5    0.001598\n",
      "dtype: float64\n"
     ]
    }
   ],
   "source": [
    "# Your code goes here\n",
    "print('The mean of the first 5 features')\n",
    "print(np.mean(X_tr.iloc[:,0:5], axis = 0))\n",
    "\n",
    "print('The standard deviations of the first 5 features')\n",
    "print(np.std(X_tr.iloc[:,0:5], axis = 0))"
   ]
  },
  {
   "cell_type": "markdown",
   "metadata": {},
   "source": [
    "### ========== Question 1.9 --- [3 marks] ==========\n",
    "Feature standardisation is a pre-processing technique used to transform data so that they have zero mean and unit standard deviation. For many algorithms, this is a very important step for training models (both regression and classification). Read about [feature standardisation](http://scikit-learn.org/0.17/modules/preprocessing.html) and make sure you understand what kind of transformation this method applies to the data.\n",
    "\n",
    "`Scikit-learn` offers a [class](http://scikit-learn.org/0.17/modules/generated/sklearn.preprocessing.StandardScaler.html) for feature standardisation. Instansiate a StandardScaler object and fit it using the **training features**. Use this fitted object to transform both your training and validation features to have a standard scale. \n",
    "\n",
    "Once your training and validation input data have been transformed, display the means and standard deviations of the first 5 attributes for **both** the training and validation sets. Are the results as you expected? Explain your answer in 2-3 sentences. Why didn't we use the validation set to standardise the data?\n",
    "\n",
    "**IMPORTANT: You should use the transformed data for the rest of this part.**"
   ]
  },
  {
   "cell_type": "code",
   "execution_count": 16,
   "metadata": {},
   "outputs": [
    {
     "name": "stdout",
     "output_type": "stream",
     "text": [
      "The transformed mean of the first 5 features in training set\n",
      "[ -3.39485301e-17  -2.20665446e-17   2.44429417e-16   1.42583827e-16\n",
      "  -5.77125012e-17]\n",
      "The transformed standard deviations of the first 5 features in training set\n",
      "[ 1.  1.  1.  1.  1.]\n",
      "The transformed mean of the first 5 features in validation set\n",
      "[-0.00550612 -0.0382933   0.10915098  0.09369314  0.03057844]\n",
      "The transformed standard deviations of the first 5 features in validation set\n",
      "[ 1.01310886  0.96981949  1.0492285   1.05684479  0.97471336]\n"
     ]
    }
   ],
   "source": [
    "# Your code goes here\n",
    "#In practice we often ignore the shape of the distribution and just transform the data to center it \n",
    "#by removing the mean value of each feature, then scale it by dividing non-constant features \n",
    "#by their standard deviation.\n",
    "\n",
    "\n",
    "scale = StandardScaler().fit(X_tr)\n",
    "X_tr_std = scale.transform(X_tr)\n",
    "X_val_std = scale.transform(X_val)\n",
    "\n",
    "print('The transformed mean of the first 5 features in training set')\n",
    "print(np.mean(X_tr_std[:,0:5], axis = 0))\n",
    "print('The transformed standard deviations of the first 5 features in training set')\n",
    "print(np.std(X_tr_std[:,0:5], axis = 0))\n",
    "\n",
    "print('The transformed mean of the first 5 features in validation set')\n",
    "print(np.mean(X_val_std[:,0:5], axis = 0))\n",
    "print('The transformed standard deviations of the first 5 features in validation set')\n",
    "print(np.std(X_val_std[:,0:5], axis = 0))"
   ]
  },
  {
   "cell_type": "markdown",
   "metadata": {},
   "source": [
    "*Your answer goes here*\n",
    "\n",
    "Yes, this is close to what I expect. After standardized the feature, the mean of the features we get in the training set is really close to zero and we get an unit standard deviations,that means standardisation is successful.\n",
    "Moreover, the mean and the standard devations in validation data set I also get around zero and one. We use training data to train the model and use testing data to validate it, therefore we only have to scale the training set."
   ]
  },
  {
   "cell_type": "markdown",
   "metadata": {},
   "source": [
    "### ========== Question 1.10 --- [3 marks] ==========\n",
    "By using the transformed input data, train a new `LogisticRegression` classifier. Again, set the `solver` parameter to `lbfgs` and use default settings for the other parameters. Report the classification accuracy on both the training and validation sets.\n",
    "\n",
    "Comment on how your model compares to the baseline classifier from Question 1.6? You may use additional plot(s) to support your explanation."
   ]
  },
  {
   "cell_type": "code",
   "execution_count": 17,
   "metadata": {},
   "outputs": [
    {
     "name": "stdout",
     "output_type": "stream",
     "text": [
      "Classification accuracy on training set: 0.810797897754\n",
      "Classification accuracy on test set: 0.643306379155\n"
     ]
    }
   ],
   "source": [
    "# Your code goes here\n",
    "LR.fit(X_tr_std, y_tr)\n",
    "print('Classification accuracy on training set: {}'.format(LR.score(X_tr_std, y_tr)))\n",
    "print('Classification accuracy on test set: {}'.format(LR.score(X_val_std, y_val)))"
   ]
  },
  {
   "cell_type": "markdown",
   "metadata": {},
   "source": [
    "*Your answer goes here*\n",
    "\n",
    "After transforming the training dataset, both of the accuracy has improved. The accuracy rate on training set from 55% improve to 81%."
   ]
  },
  {
   "cell_type": "code",
   "execution_count": 18,
   "metadata": {},
   "outputs": [
    {
     "data": {
      "image/png": "[encoded data removed]",
      "text/plain": [
       "<matplotlib.figure.Figure at 0x7f89a79468d0>"
      ]
     },
     "metadata": {},
     "output_type": "display_data"
    }
   ],
   "source": [
    "objects = ('dummy classifier', 'LogisticRegression classifier after transforming')\n",
    "y_pos = np.arange(len(objects))\n",
    "score=[class_counts[0]/class_counts.values.sum(),LR.score(X_tr_std, y_tr)]\n",
    " \n",
    "plt.bar(y_pos, score, align='center', width = 0.4, alpha=0.5)\n",
    "plt.xticks(y_pos, objects)\n",
    "plt.ylabel('Accuracy rate')\n",
    " \n",
    "plt.show()"
   ]
  },
  {
   "cell_type": "markdown",
   "metadata": {},
   "source": [
    "### ========== Question 1.11 --- [1 mark] ==========\n",
    "So far we have used default settings for training the logistic regression classifier. Now, we want to use [K-fold cross-validation](http://scikit-learn.org/0.17/modules/generated/sklearn.cross_validation.KFold.html) to optimise the regularisation parameter `C`. The regularisation parameter controls the degree to which we wish to penalise large magnitudes in the weight vector. This can help us prevent overfitting but, if set too high, could lead us to underfit too.\n",
    "\n",
    "Create a 3-fold cross-validation object. Set the `shuffle` parameter to `True` and the `random_state` to `0`. By using the cross-validation iterator, display the number of test samples for each fold."
   ]
  },
  {
   "cell_type": "code",
   "execution_count": 19,
   "metadata": {},
   "outputs": [
    {
     "name": "stdout",
     "output_type": "stream",
     "text": [
      "The number of test samples of each fold:\n",
      "fold 1: 698\n",
      "fold 2: 698\n",
      "fold 3: 697\n"
     ]
    }
   ],
   "source": [
    "# Your code goes here\n",
    "kf = KFold(2093, n_folds=3, shuffle = True, random_state=0)\n",
    "i=1\n",
    "print(\"The number of test samples of each fold:\")\n",
    "for train_index, test_index in kf:\n",
    "    X_train, X_test = X_tr_std[train_index], X_tr_std[test_index]\n",
    "    y_train, y_test = y_tr[train_index], y_tr[test_index]\n",
    "    print(\"fold {}: {}\".format(i,X_test.shape[0]))\n",
    "    i+=1"
   ]
  },
  {
   "cell_type": "markdown",
   "metadata": {},
   "source": [
    "### ========== Question 1.12 --- [2 marks] ========== \n",
    "Using the cross-validation iterator from the previous question, perform a search for the best value for `C`. \n",
    "\n",
    "We are going to loop over each CV fold, and each value of `C`. The values of `C` to search should be 20 equally-spaced values **in log space** ranging from `1e-5` to `1e5` *(hint: look at the `logspace()` function in numpy)*. \n",
    "\n",
    "Create a 2-dimensional array and, for each cross-validation fold and parameter setting pair, compute and store the classification accuracy score e.g. store the score of fold 0 with parameter setting 1 at score_array[0,1]. As previously, set the `solver` parameter to `lbfgs` and use default settings for the other parameters (except for `C` obviously!).\n",
    "\n",
    "*(hint: you could use two loops in your code; one iterating over CV folds and another one iterating over the values for `C`)*. "
   ]
  },
  {
   "cell_type": "code",
   "execution_count": 24,
   "metadata": {},
   "outputs": [
    {
     "name": "stdout",
     "output_type": "stream",
     "text": [
      "[[  1.00000000e-05   5.55658101e-01]\n",
      " [  3.35981829e-05   6.32108682e-01]\n",
      " [  1.12883789e-04   6.68406282e-01]\n",
      " [  3.79269019e-04   6.82261541e-01]\n",
      " [  1.27427499e-03   6.98987611e-01]\n",
      " [  4.28133240e-03   7.10458521e-01]\n",
      " [  1.43844989e-02   6.86094313e-01]\n",
      " [  4.83293024e-02   6.71762185e-01]\n",
      " [  1.62377674e-01   6.56954556e-01]\n",
      " [  5.45559478e-01   6.46439441e-01]\n",
      " [  1.83298071e+00   6.41180856e-01]\n",
      " [  6.15848211e+00   6.37356990e-01]\n",
      " [  2.06913808e+01   6.33058311e-01]\n",
      " [  6.95192796e+01   6.32580756e-01]\n",
      " [  2.33572147e+02   6.32580756e-01]\n",
      " [  7.84759970e+02   6.33058311e-01]\n",
      " [  2.63665090e+03   6.32103201e-01]\n",
      " [  8.85866790e+03   6.32103201e-01]\n",
      " [  2.97635144e+04   6.33535866e-01]\n",
      " [  1.00000000e+05   6.33058311e-01]]\n"
     ]
    }
   ],
   "source": [
    "# Your code goes here\n",
    "clist =  np.logspace(start = -5,stop = 5, num =20)\n",
    "acc_score = np.empty(shape = [0,2])\n",
    "each_score = []\n",
    "for i in range(20):\n",
    "    lr_c = LogisticRegression(solver='lbfgs', C = clist[i])\n",
    "    for train_index, test_index in kf:\n",
    "        X_train, X_test = X_tr_std[train_index], X_tr_std[test_index]\n",
    "        y_train, y_test = y_tr[train_index], y_tr[test_index]\n",
    "        lr_c.fit(X_train, y_train)\n",
    "        each_score = np.append(each_score,lr_c.score(X_test,y_test)) # get score of each fold and store in array\n",
    "    avg_score = np.average(each_score)  \n",
    "    acc_score = np.append(acc_score,[[clist[i],avg_score]], axis=0)\n",
    "    each_score=[]\n",
    "print(acc_score)\n"
   ]
  },
  {
   "cell_type": "markdown",
   "metadata": {},
   "source": [
    "### ========== Question 1.13 --- [1 mark] ========== \n",
    "Plot the mean classification performance (across CV folds) of the logistic regression classifier against the regularisation parameter `C` by using the range from Question 1.12. Use a logarithmic scale for the x-axis and label both axes appropriately. "
   ]
  },
  {
   "cell_type": "code",
   "execution_count": 19,
   "metadata": {},
   "outputs": [
    {
     "data": {
      "image/png": "[encoded data removed]",
      "text/plain": [
       "<matplotlib.figure.Figure at 0x7ff6195c29d0>"
      ]
     },
     "metadata": {},
     "output_type": "display_data"
    }
   ],
   "source": [
    "# Your code goes here\n",
    "plt.plot(clist,acc_score[:,1])\n",
    "plt.xlabel('parameter C ')\n",
    "plt.ylabel('Classification accuracy on validation set')\n",
    "plt.title('The best value for C')\n",
    "plt.xscale('log')\n",
    "plt.show()"
   ]
  },
  {
   "cell_type": "markdown",
   "metadata": {},
   "source": [
    "### ========== Question 1.14 --- [2 marks] ==========\n",
    "Display the optimal value for the regularisation parameter `C` determined by the search results from Question 1.12. Similarly to Question 1.13, consider the mean classifiation accuracy across CV folds. By using the optimal value (i.e. the one that yields the highest average classification accuracy) train a new `LogisticRegression` classifier and report the classification accuracy on the validation set. *(Hint: Do not pick the optimal value \"by hand\", instead use an appropriate numpy function).*"
   ]
  },
  {
   "cell_type": "code",
   "execution_count": 21,
   "metadata": {},
   "outputs": [
    {
     "name": "stdout",
     "output_type": "stream",
     "text": [
      "Optimal value for the regularisation parameter C: 0.00428133239872\n",
      "Accuracy on the validation set: 0.696316262354\n"
     ]
    }
   ],
   "source": [
    "# Your code goes here\n",
    "accuracy = acc_score[:,1]\n",
    "maxindex = np.where(accuracy == accuracy.max())\n",
    "opt_c = acc_score[maxindex][0][0]\n",
    "print(\"Optimal value for the regularisation parameter C: {}\".format(opt_c))\n",
    "lr_opt = LogisticRegression(solver='lbfgs', C = opt_c)\n",
    "lr_opt.fit(X_tr_std, y_tr)\n",
    "print(\"Accuracy on the validation set: {}\".format(lr_opt.score(X_val_std, y_val)))"
   ]
  },
  {
   "cell_type": "markdown",
   "metadata": {},
   "source": [
    "### ========== Question 1.15 --- [1 mark] ========== \n",
    "Scikit-learn offers a [`LogisticRegressionCV`](http://scikit-learn.org/0.17/modules/generated/sklearn.linear_model.LogisticRegressionCV.html) module which implements Logistic Regression with builtin cross-validation to find out the optimal `C` parameter. You can specify the range for the `C` parameter, as well as the cross-validation method you want to use with the `Cs` and `cv` parameters, respectively. Use the `C` range you set up in Question 1.12 and the 3-fold cross-validation iterator from Question 1.11. Once again, train the models by using the `lbfgs` optimisation method and display the optimal value for the parameter `C`. Finally, display the classification accuracy on the validation set. Check your results are consistent with those from Question 1.14!"
   ]
  },
  {
   "cell_type": "code",
   "execution_count": 22,
   "metadata": {},
   "outputs": [
    {
     "name": "stdout",
     "output_type": "stream",
     "text": [
      "Optimal value for the parameter C: [ 0.00428133]\n",
      "Accuracy on the validation set: 0.696316262354\n",
      "yes, the result is same as the Q1.14\n"
     ]
    }
   ],
   "source": [
    "# Your code goes here\n",
    "lr_cv = LogisticRegressionCV(Cs = list(np.logspace(start = -5,stop = 5, num =20)), cv = 3, solver='lbfgs', random_state=0)\n",
    "lr_cv.fit(X_tr_std, y_tr)\n",
    "print(\"Optimal value for the parameter C: {}\".format(lr_cv.C_ ))\n",
    "print(\"Accuracy on the validation set: {}\".format(lr_cv.score(X_val_std, y_val)))\n",
    "\n",
    "print(\"yes, the result is same as the Q1.14\")"
   ]
  },
  {
   "cell_type": "markdown",
   "metadata": {},
   "source": [
    "### ========== Question 1.16 --- [1 mark] ==========\n",
    "Now, we want to validate the importance of various features for classification. For this purpose, we will use a [`RandomForestClassifier`](http://scikit-learn.org/0.17/modules/generated/sklearn.ensemble.RandomForestClassifier.html) (you might want to refer to Lab_3 if you are unsure how we can estimate feature importances with decision tree and random forest models).\n",
    "\n",
    "Initialise a random forest classifier and fit the model by using training data only and 500 trees (i.e. `n_estimators`). Set the `RandomState` equal to 42 to ensure reproducible results. Report the accuracy score on both the training and validation sets."
   ]
  },
  {
   "cell_type": "code",
   "execution_count": 23,
   "metadata": {},
   "outputs": [
    {
     "name": "stdout",
     "output_type": "stream",
     "text": [
      "Accuracy on the Training set: 1.0\n",
      "Accuracy on the validation set: 0.692722371968\n"
     ]
    }
   ],
   "source": [
    "# Your code goes here\n",
    "RFL = RandomForestClassifier(n_estimators=500, random_state=42)\n",
    "RFL.fit(X_tr_std, y_tr)\n",
    "print(\"Accuracy on the Training set: {}\".format(RFL.score(X_tr_std, y_tr)))\n",
    "print(\"Accuracy on the validation set: {}\".format(RFL.score(X_val_std, y_val)))"
   ]
  },
  {
   "cell_type": "markdown",
   "metadata": {},
   "source": [
    "### ========== Question 1.17 --- [2 marks] ==========\n",
    "Comment on the results above. Do you find the discrepancy between training and validation accuracies surprising?"
   ]
  },
  {
   "cell_type": "markdown",
   "metadata": {},
   "source": [
    "*Your answer goes here*\n",
    "\n",
    "The accuracy rate of training set is 100%, but on the validation set it only get 69%, we may suggest that this clssifier has been observed to overfit for some datasets with noisy."
   ]
  },
  {
   "cell_type": "markdown",
   "metadata": {},
   "source": [
    "### ========== Question 1.18 --- [2 marks] ==========\n",
    "By using the random forest model from the previous question order the features by descending importance and display the names of the 50 most important features."
   ]
  },
  {
   "cell_type": "code",
   "execution_count": 24,
   "metadata": {},
   "outputs": [
    {
     "name": "stdout",
     "output_type": "stream",
     "text": [
      "        Importance\n",
      "dim21     0.007572\n",
      "dim51     0.007559\n",
      "dim360    0.007032\n",
      "dim4      0.006193\n",
      "dim479    0.006054\n",
      "dim76     0.006026\n",
      "dim283    0.005811\n",
      "dim461    0.005606\n",
      "dim343    0.005451\n",
      "dim398    0.004859\n",
      "dim348    0.004783\n",
      "dim74     0.004742\n",
      "dim485    0.004716\n",
      "dim356    0.004702\n",
      "dim330    0.004640\n",
      "dim217    0.004606\n",
      "dim263    0.004577\n",
      "dim222    0.004218\n",
      "dim134    0.004131\n",
      "dim500    0.004064\n",
      "dim274    0.004042\n",
      "dim254    0.004002\n",
      "dim206    0.003890\n",
      "dim423    0.003867\n",
      "dim347    0.003813\n",
      "dim17     0.003728\n",
      "dim326    0.003704\n",
      "dim90     0.003703\n",
      "dim92     0.003701\n",
      "dim329    0.003687\n",
      "dim214    0.003668\n",
      "dim322    0.003613\n",
      "dim289    0.003595\n",
      "dim54     0.003591\n",
      "dim440    0.003581\n",
      "dim427    0.003576\n",
      "dim73     0.003462\n",
      "dim35     0.003461\n",
      "dim77     0.003414\n",
      "dim312    0.003363\n",
      "dim315    0.003337\n",
      "dim96     0.003312\n",
      "dim288    0.003308\n",
      "dim483    0.003259\n",
      "dim299    0.003251\n",
      "dim48     0.003206\n",
      "dim442    0.003171\n",
      "dim201    0.003056\n",
      "dim344    0.003012\n",
      "dim294    0.003006\n"
     ]
    },
    {
     "name": "stderr",
     "output_type": "stream",
     "text": [
      "/home/chienyu/anaconda2/envs/iaml/lib/python2.7/site-packages/ipykernel_launcher.py:4: FutureWarning: by argument to sort_index is deprecated, pls use .sort_values(by=...)\n",
      "  after removing the cwd from sys.path.\n"
     ]
    }
   ],
   "source": [
    "# Your code goes here\n",
    "importance = RFL.feature_importances_\n",
    "importance = pd.DataFrame(importance, index=X_tr.columns, columns=[\"Importance\"])\n",
    "des_importance = importance.sort_index(by='Importance', ascending=False)\n",
    "print(des_importance.head(50))"
   ]
  },
  {
   "cell_type": "markdown",
   "metadata": {},
   "source": [
    "### ========== Question 1.19 --- [3 marks] ==========\n",
    "Next, we would like to test the performance of support vector machines. Train three support vector classifiers with the following kernels: linear, radial basis function, and polynomial. Report the classification accuracy of each of the three classifiers on both the training and validation sets."
   ]
  },
  {
   "cell_type": "code",
   "execution_count": 25,
   "metadata": {},
   "outputs": [
    {
     "name": "stdout",
     "output_type": "stream",
     "text": [
      "Linear Accuracy on the Training set: 0.842331581462\n",
      "Linear Accuracy on the validation set: 0.638814016173\n",
      "Radial Basis Function Accuracy on the Training set: 0.910654562828\n",
      "Radial Basis Function Accuracy on the validation set: 0.729559748428\n",
      "Polynomial Accuracy on the Training set: 0.990922121357\n",
      "Polynomial Accuracy on the validation set: 0.701707097934\n"
     ]
    }
   ],
   "source": [
    "# Your code goes here\n",
    "svc_linear = SVC(kernel='linear').fit(X_tr_std, y_tr)\n",
    "svc_rbf = SVC(kernel='rbf').fit(X_tr_std, y_tr)\n",
    "svc_poly = SVC(kernel='poly').fit(X_tr_std, y_tr)\n",
    "print(\"Linear Accuracy on the Training set: {}\".format(svc_linear.score(X_tr_std, y_tr)))\n",
    "print(\"Linear Accuracy on the validation set: {}\".format(svc_linear.score(X_val_std, y_val)))\n",
    "print(\"Radial Basis Function Accuracy on the Training set: {}\".format(svc_rbf.score(X_tr_std, y_tr)))\n",
    "print(\"Radial Basis Function Accuracy on the validation set: {}\".format(svc_rbf.score(X_val_std, y_val)))\n",
    "print(\"Polynomial Accuracy on the Training set: {}\".format(svc_poly.score(X_tr_std, y_tr)))\n",
    "print(\"Polynomial Accuracy on the validation set: {}\".format(svc_poly.score(X_val_std, y_val)))"
   ]
  },
  {
   "cell_type": "markdown",
   "metadata": {},
   "source": [
    "### ========== Question 1.20 --- [3 marks] ==========\n",
    "At this point, we would like to get an idea of what kind of decision boundaries we can get with the three types of SVM kernels we introduced in the previous question. For visualisation, however, we can only make use of 2D input data. For this purpose, we select to use the 21st and 76th columns of our training features (*hint: remember that Python uses 0-based indexing*). \n",
    "\n",
    "Execute the cell below to define a useful function which we will be using to plot the decision boundaries *(it is also not a bad idea to try to understand what this functions does)*. \n",
    "\n",
    "Then train three distinct SVM classifiers by using the 2D input data mentioned above and default parameters:\n",
    "* a linear SVC\n",
    "* an RBF SVC \n",
    "* a polynomial SVC\n",
    "\n",
    "Finally, create a list containing the three classifiers you have just trained. Use this list as an input to the provided function along with the used training features and observe the outcome. You can use the additional `title` parameter to set the titles in the subplots. Comment on the shape of the boundaries and what this means for classification accuracy in 1-2 sentences.\n",
    "\n",
    "*(Acknowledgement: this Question has been heavily based on [this example](http://scikit-learn.org/0.17/auto_examples/svm/plot_iris.html) from scikit-learn's documentation.)*"
   ]
  },
  {
   "cell_type": "code",
   "execution_count": 26,
   "metadata": {
    "collapsed": true
   },
   "outputs": [],
   "source": [
    "def show_svc_decision_boundaries(clfs, X, title=None):\n",
    "    \"\"\"Plots decision boundaries for classifiers with 2D inputs.\n",
    "    \n",
    "    Parameters\n",
    "    ----------\n",
    "    clf : list\n",
    "        Classifiers for which decision boundaries will be displayed.\n",
    "    X : array\n",
    "        Input features used to train the classifiers.\n",
    "    title : list, optional\n",
    "        Titles for classifiers.\n",
    "    \n",
    "    \"\"\"\n",
    "    \n",
    "    assert X.shape[1] == 2 # Input should be 2D\n",
    "    if title is not None:\n",
    "        assert len(clfs) == len(title)\n",
    "    \n",
    "    h = .04 # step size in the mesh\n",
    "    x_min, x_max = X[:, 0].min() - 1, X[:, 0].max() + 1\n",
    "    y_min, y_max = X[:, 1].min() - 1, X[:, 1].max() + 1\n",
    "    xx, yy = np.meshgrid(np.arange(x_min, x_max, h),\n",
    "                         np.arange(y_min, y_max, h))\n",
    "    plt.figure(figsize=(15,5))\n",
    "    for i, clf in enumerate(clfs):\n",
    "        plt.subplot(1, len(clfs), i + 1)\n",
    "        plt.subplots_adjust(wspace=0.4, hspace=0.4)\n",
    "        Z = clf.predict(np.c_[xx.ravel(), yy.ravel()])\n",
    "        Z = Z.reshape(xx.shape)\n",
    "        plt.contourf(xx, yy, Z, cmap=plt.cm.Paired, alpha=0.8)\n",
    "        # Training points\n",
    "        plt.scatter(X[:, 0], X[:, 1], c=y_tr, cmap=plt.cm.Paired)\n",
    "        plt.xlabel('Feature 1')\n",
    "        plt.ylabel('Feature 2')\n",
    "        plt.xlim(xx.min(), xx.max())\n",
    "        plt.ylim(yy.min(), yy.max())\n",
    "        plt.xticks(())\n",
    "        plt.yticks(())\n",
    "        if title is not None:\n",
    "            plt.title(title[i])"
   ]
  },
  {
   "cell_type": "code",
   "execution_count": 27,
   "metadata": {
    "scrolled": true
   },
   "outputs": [
    {
     "name": "stdout",
     "output_type": "stream",
     "text": [
      "[[ 0.13531513  0.05250685]\n",
      " [ 0.04482899 -1.02371254]\n",
      " [-0.6606378  -0.47763395]\n",
      " ..., \n",
      " [-0.85732325  0.35784112]\n",
      " [ 0.18570562  0.83261912]\n",
      " [ 0.06325132  2.63694329]]\n"
     ]
    },
    {
     "data": {
      "image/png": "[encoded data removed]",
      "text/plain": [
       "<matplotlib.figure.Figure at 0x7ff619be3590>"
      ]
     },
     "metadata": {},
     "output_type": "display_data"
    }
   ],
   "source": [
    "# Your code goes here\n",
    "titlelist = ['linear SVC', 'Radial Basis Function(RBF) SVC', 'polynomial SVC']\n",
    "#print(np.array((X_tr_std[20:21],X_tr_std[74:75])))\n",
    "X_feature = np.column_stack((X_tr_std[:,20],X_tr_std[:,75]))\n",
    "svc_linear_f = SVC(kernel='linear').fit(X_feature, y_tr)\n",
    "svc_rbf_f = SVC(kernel='rbf').fit(X_feature, y_tr)\n",
    "svc_poly_f = SVC(kernel='poly').fit(X_feature, y_tr)\n",
    "clf_bon = (svc_linear_f, svc_rbf_f, svc_poly_f)\n",
    "show_svc_decision_boundaries(clf_bon, X_feature, titlelist)\n",
    "print(X_feature)"
   ]
  },
  {
   "cell_type": "markdown",
   "metadata": {},
   "source": [
    "*Your answer goes here*\n",
    "\n",
    "It is clear that the boundary of Linear SVC is a straight line, and both RBF and polynominal have a non-linear boundary. Different dot represent different features, however these two feature are mix together, that is why their accuracy of the validation sets are low. "
   ]
  },
  {
   "cell_type": "markdown",
   "metadata": {},
   "source": [
    "### ========== Question 1.21 --- [5 marks] ==========\n",
    "So far we have used default parameters for training the SVM classifiers. Now we want to tune the parameters by using cross-validation. \n",
    "\n",
    "By using the `K-fold` iterator from Question 1.11 and training data only, estimate the classification accuracy of an SVM classifier with RBF kernel, while you vary the penalty parameter `C` in a logarithmic range `np.logspace(-2, 3, 10)`. Set the kernel coefficient parameter `gamma` to `auto` for this question. \n",
    "\n",
    "Plot the mean cross-validated classification accuracy against the regularisation parameter `C` by using a log-scale for the x-axis. Display the highest obtained mean accuracy score and the value of `C` which yielded it. Label axes appropriately. \n",
    "\n",
    "Finally, train a classifier by using the optimal value for this parameter (without using cross-validation at this stage) and report the classification accuracy on the training and validation sets. "
   ]
  },
  {
   "cell_type": "code",
   "execution_count": 36,
   "metadata": {},
   "outputs": [
    {
     "data": {
      "image/png": "[encoded data removed]",
      "text/plain": [
       "<matplotlib.figure.Figure at 0x7ff619539910>"
      ]
     },
     "metadata": {},
     "output_type": "display_data"
    },
    {
     "name": "stdout",
     "output_type": "stream",
     "text": [
      "the optimal of the regularisation parameter C:  1.6681005372\n",
      "the highest obtained mean accuracy score: 0.715230644637\n",
      "accuracy on training set: 0.974677496417\n",
      "accuracy on validation set: 0.727762803235\n"
     ]
    }
   ],
   "source": [
    "# Your code goes here\n",
    "c_list=np.logspace(-2, 3, 10)\n",
    "score = np.empty(shape = [0,2])\n",
    "each_score=[]\n",
    "i=0\n",
    "for i in range(10):\n",
    "    SVC_rbf_n = SVC(C=c_list[i], kernel='rbf', gamma='auto')\n",
    "    for train_index, test_index in kf:\n",
    "        X_train, X_test = X_tr_std[train_index], X_tr_std[test_index]\n",
    "        y_train, y_test = y_tr[train_index], y_tr[test_index]\n",
    "        SVC_rbf_n.fit(X_train, y_train)\n",
    "        each_score = np.append(each_score, SVC_rbf_n.score(X_test,y_test)) \n",
    "    avg_score = np.average(each_score)\n",
    "    score = np.append(score, [[c_list[i], avg_score]],axis=0)\n",
    "    each_score=[]\n",
    "    \n",
    "\n",
    "plt.plot(c_list, score[:,1])\n",
    "plt.xlabel('parameter C ')\n",
    "plt.ylabel('Classification accuracy on validation set')\n",
    "plt.title('cross-validated classification accuracy against the regularisation parameter C')\n",
    "plt.xscale('log')\n",
    "plt.show()\n",
    "\n",
    "maxindex = np.where(score[:,1] == np.max(score[:,1]))\n",
    "opt_c = score[maxindex][0][0]\n",
    "SVC_rbf_opt = SVC(C=opt_c, kernel='rbf', gamma='auto').fit(X_tr_std, y_tr)\n",
    "print(\"the optimal of the regularisation parameter C: \", opt_c)\n",
    "print(\"the highest obtained mean accuracy score:\", np.max(score[:,1]))\n",
    "print(\"accuracy on training set: {}\".format(SVC_rbf_opt.score(X_tr_std, y_tr)))\n",
    "print(\"accuracy on validation set: {}\".format(SVC_rbf_opt.score(X_val_std, y_val)))"
   ]
  },
  {
   "cell_type": "markdown",
   "metadata": {},
   "source": [
    "### ========== Question 1.22 --- [5 marks] ==========\n",
    "Now we turn to the kernel coefficient `gamma` parameter. By using the same procedure as in the previous question, estimate the classification accuracy of an SVM classifier with RBF kernel while you vary the `gamma` parameter in a logarithmic range `logspace(-5, 0, 10)`. Fix the penalty parameter `C=1.0`.\n",
    "\n",
    "Plot the mean cross-validated classification accuracy against the parameter `gamma` by using a log-scale for the x-axis. Display the highest obtained mean accuracy score and the value of `gamma` which yielded it.  Label axes appropriately.\n",
    "\n",
    "Finally, train a classifier by using the optimal value for this parameter (without using cross-validation at this stage) and report the classification accuracy on the training and validation sets. "
   ]
  },
  {
   "cell_type": "code",
   "execution_count": 37,
   "metadata": {},
   "outputs": [
    {
     "data": {
      "image/png": "[encoded data removed]",
      "text/plain": [
       "<matplotlib.figure.Figure at 0x7ff618778190>"
      ]
     },
     "metadata": {},
     "output_type": "display_data"
    },
    {
     "name": "stdout",
     "output_type": "stream",
     "text": [
      "the optimal of the regularisation parameter C:  0.0016681005372\n",
      "the highest obtained mean accuracy score: 0.716185754475\n",
      "accuracy on training set: 0.891065456283\n",
      "accuracy on validation set: 0.726864330638\n"
     ]
    }
   ],
   "source": [
    "# Your code goes here\n",
    "g_list=np.logspace(-5, 0, 10)\n",
    "score = np.empty(shape = [0,2])\n",
    "each_score=[]\n",
    "i=0\n",
    "for i in range(10):\n",
    "    SVC_rbf_g = SVC(C = 1.0, kernel = 'rbf', gamma = g_list[i])\n",
    "    for train_index, test_index in kf:\n",
    "        X_train, X_test = X_tr_std[train_index], X_tr_std[test_index]\n",
    "        y_train, y_test = y_tr[train_index], y_tr[test_index]\n",
    "        SVC_rbf_g.fit(X_train, y_train)\n",
    "        each_score = np.append(each_score, SVC_rbf_g.score(X_test,y_test)) \n",
    "    avg_score = np.average(each_score)\n",
    "    score = np.append(score, [[g_list[i], avg_score]],axis=0)\n",
    "    each_score=[]\n",
    "    \n",
    "\n",
    "plt.plot(g_list, score[:,1])\n",
    "plt.xlabel('gamma ')\n",
    "plt.ylabel('Classification accuracy on validation set')\n",
    "plt.title('cross-validated classification accuracy against the regularisation gamma')\n",
    "plt.xscale('log')\n",
    "plt.show()\n",
    "\n",
    "maxindex = np.where(score[:,1] == np.max(score[:,1]))\n",
    "opt_g = score[maxindex][0][0]\n",
    "SVC_rbf_opt_g = SVC(C=1.0, kernel='rbf', gamma=opt_g).fit(X_tr_std, y_tr)\n",
    "print(\"the optimal of the regularisation parameter C: \", opt_g)\n",
    "print(\"the highest obtained mean accuracy score:\", np.max(score[:,1]))\n",
    "print(\"accuracy on training set: {}\".format(SVC_rbf_opt_g.score(X_tr_std, y_tr)))\n",
    "print(\"accuracy on validation set: {}\".format(SVC_rbf_opt_g.score(X_val_std, y_val)))\n"
   ]
  },
  {
   "cell_type": "markdown",
   "metadata": {},
   "source": [
    "### ========== Question 1.23 --- [7 marks] ==========\n",
    "Now we wish to tune both the `C` and `gamma` parameters simultaneously. To save computational time, we will now constrain the parameter search space. Define a `4 X 4` grid for the two parameters, as follows:\n",
    "* `C`: `np.logspace(-2, 1, 4)`\n",
    "* `gamma`: `np.logspace(-4, -1, 4)`\n",
    "\n",
    "Estimate the mean cross-validated classification accuracy by using training data only and all possible configurations for the two parameters. \n",
    "\n",
    "Use a [heatmap](https://seaborn.github.io/generated/seaborn.heatmap.html?highlight=heatmap#seaborn.heatmap) to visualise the mean cross-validated classification accuracy for all `C`-`gamma` pairs. Label axes appropriately and display the values for `C` and `gamma` for the best performing configuration. \n",
    "\n",
    "Finally, by using the optimal configuration, train a classifier (without using cross-validation) and report the classification accuracy on the training and validation sets."
   ]
  },
  {
   "cell_type": "code",
   "execution_count": 103,
   "metadata": {},
   "outputs": [
    {
     "name": "stdout",
     "output_type": "stream",
     "text": [
      "the optimal value for the regularisation parameter g:  0.001\n",
      "the optimal value for the regularisation parameter c:  1.0\n",
      "accuracy on the training set:  0.834687052078\n",
      "accuracy on the valdation set:  0.721473495058\n"
     ]
    },
    {
     "data": {
      "image/png": "[encoded data removed]",
      "text/plain": [
       "<matplotlib.figure.Figure at 0x7f89aaf1ecd0>"
      ]
     },
     "metadata": {},
     "output_type": "display_data"
    }
   ],
   "source": [
    "# Your code goes here\n",
    "C = np.logspace(-2, 1, 4)\n",
    "G= np.logspace(-4, -1, 4)\n",
    "SVC_rbf_new = SVC(kernel = 'rbf')\n",
    "score = np.empty(shape = [0,3])\n",
    "each_score=[]\n",
    "i=0\n",
    "for c in C:\n",
    "    SVC_rbf_new.C = c\n",
    "    for g in G:\n",
    "        SVC_rbf_new.gamma = g\n",
    "        for train_index, test_index in kf:\n",
    "            X_train, X_test = X_tr_std[train_index], X_tr_std[test_index]\n",
    "            y_train, y_test = y_tr[train_index], y_tr[test_index]\n",
    "            SVC_rbf_new.fit(X_train, y_train)\n",
    "            each_score = np.append(each_score, SVC_rbf_new.score(X_test,y_test)) \n",
    "        avg_score = np.average(each_score)\n",
    "        score = np.append(score, [[c, g, avg_score]],axis=0)\n",
    "        each_score=[]\n",
    "score_list = score[:,2]\n",
    "new_list = [score_list[i:i+4] for i in range(0, len(score_list), 4)]\n",
    "score_df = pd.DataFrame(new_list,index=C, columns=G)\n",
    "ax = sns.heatmap(score_df, annot=True)\n",
    "plt.xlabel(\"Gamma\")\n",
    "plt.ylabel(\"C\")\n",
    "\n",
    "c_g_opt = score_df.unstack().idxmax()\n",
    "opt_g = c_g_opt[0]\n",
    "opt_c = c_g_opt[1]\n",
    "SVC_rbf_opt = SVC(kernel='rbf', gamma= opt_g, C=opt_c).fit(X_tr_std, y_tr)\n",
    "print('the optimal value for the regularisation parameter g: ',opt_g)\n",
    "print('the optimal value for the regularisation parameter c: ',opt_c)\n",
    "print('accuracy on the training set: ',SVC_rbf_opt.score(X_tr_std, y_tr))\n",
    "print('accuracy on the valdation set: ',SVC_rbf_opt.score(X_val_std, y_val))"
   ]
  },
  {
   "cell_type": "markdown",
   "metadata": {},
   "source": [
    "### ========== Question 1.24 --- [3 marks] ==========\n",
    "Is the classification accuracy on the validation set higher than in previous questions (1.22-1.23)? If not, can you explain why? Can you think of a way of further improving the performance of the classifier? You don't need to implement your suggestion at this stage. Would there be any associated problems with your suggested approach? "
   ]
  },
  {
   "cell_type": "markdown",
   "metadata": {},
   "source": [
    "*Your answer goes here*\n",
    "\n",
    "No, one possible reason is that the step length for the trial values of C and gamma is too big. We should decrease the step length for the trial values of C and gamma, but this method could increase the computation and computing time."
   ]
  },
  {
   "cell_type": "markdown",
   "metadata": {},
   "source": [
    "### ========== Question 1.25 --- [5 marks] ==========\n",
    "Now we want to evaluate the performance of an SVM classifier with polynomial kernel. Once again, we will tune the `degree` parameter by using cross-validation (similarly to what we did in Questions 1.21 and 1.22).\n",
    "\n",
    "By using the `K-fold` iterator from Question 1.11 and training data only, estimate the classification accuracy of polynomial SVM classifier, while you vary the `degree` parameter in the range `np.arange(1,8)`. \n",
    "\n",
    "Plot the mean cross-validated classification accuracy against the polynomial degree. Display the highest obtained mean accuracy score and the value of the `degree` parameter which yielded it. Label axes appropriately. \n",
    "\n",
    "Finally, train a classifier by using the optimal value for this parameter (without using cross-validation at this stage) and report the classification accuracy on the training and validation sets. "
   ]
  },
  {
   "cell_type": "code",
   "execution_count": 59,
   "metadata": {},
   "outputs": [
    {
     "data": {
      "image/png": "[encoded data removed]",
      "text/plain": [
       "<matplotlib.figure.Figure at 0x7ff61887bf90>"
      ]
     },
     "metadata": {},
     "output_type": "display_data"
    }
   ],
   "source": [
    "# Your code goes \n",
    "p = np.arange(1,8)\n",
    "score = [[] for j in range(3)]\n",
    "k=0\n",
    "for train_index, test_index in kf:\n",
    "    X_train, X_test = X_tr_std[train_index], X_tr_std[test_index]\n",
    "    y_train, y_test = y_tr[train_index], y_tr[test_index]\n",
    "    for i in p:\n",
    "        SVC_poly = SVC(kernel='poly', degree=i).fit(X_train,y_train)\n",
    "        score[k].append(SVC_poly.score(X_test, y_test))\n",
    "    #score_mean.append(np.average(score))\n",
    "    #score = []\n",
    "    k+=1\n",
    "score_arr = np.array(score)\n",
    "score_mean = score_arr.mean(axis=0)\n",
    "\n",
    "plt.plot(p,score_mean)\n",
    "plt.xlabel('degree ')\n",
    "plt.ylabel('Classification accuracy on validation set')\n",
    "plt.title('cross-validated classification accuracy against the degree')\n",
    "plt.show()"
   ]
  },
  {
   "cell_type": "code",
   "execution_count": 72,
   "metadata": {},
   "outputs": [
    {
     "name": "stdout",
     "output_type": "stream",
     "text": [
      "the optimal of the value of the degree parameter: degree  1\n",
      "the highest obtained mean accuracy score: 0.702810105802\n",
      "accuracy on training set: 0.783564261825\n",
      "accuracy on validation set: 0.689128481581\n"
     ]
    }
   ],
   "source": [
    "maxindex = np.where(score_mean == score_mean.max())\n",
    "SVC_poly_opt = SVC(kernel='poly', degree=maxindex[0][0]+1).fit(X_tr_std, y_tr)\n",
    "print(\"the optimal of the value of the degree parameter: degree \", maxindex[0][0]+1)\n",
    "print(\"the highest obtained mean accuracy score:\", score_mean[maxindex[0][0]])\n",
    "print(\"accuracy on training set: {}\".format(SVC_poly_opt.score(X_tr_std, y_tr)))\n",
    "print(\"accuracy on validation set: {}\".format(SVC_poly_opt.score(X_val_std, y_val)))"
   ]
  },
  {
   "cell_type": "markdown",
   "metadata": {},
   "source": [
    "### ========== Question 1.26 --- [4 marks] ==========\n",
    "\n",
    "You might have noticted that so far, we have used cross-validation for optimising the various tuning parameters (e.g. regularisation parameter in logistic regression, SVM kernel parameters) rather than hold-out validation, although we did have access to a validation set. Why do you think this is a good/bad idea? Give one advantage and one disadvantage of the two different approaches. Which one would you trust more in practice?"
   ]
  },
  {
   "cell_type": "markdown",
   "metadata": {},
   "source": [
    "Hold out \n",
    "\n",
    "Advantage: It is fast and lesser cost, because the dataset is only divided into two dataset.\n",
    "Disadvantage: lower efficiency and the model can only be trained by the training set, which makes the result less reliable.\n",
    "\n",
    "CV\n",
    "\n",
    "Advantage : Cross validation picks out different sets of training and testing data samples, which make the optimisation of parameters are more accurate. And this can be good as we get a range of samples.\n",
    "Disadvantage: Expensive for large sample."
   ]
  },
  {
   "cell_type": "markdown",
   "metadata": {},
   "source": [
    "### ========== Question 1.27 --- [6 marks] ==========\n",
    "\n",
    "Reload the full training and validation data that contain all indicator variables for all object categories. Remove the `imgId` attribute but keep all of the class indicator variables in the dataset this time. Your training features should include all attributes except `is_person` which should be your target variable. \n",
    "\n",
    "Once again, use a [StandardScaler](http://scikit-learn.org/0.17/modules/generated/sklearn.preprocessing.StandardScaler.html) to standardise your training and validation features. Then train a Random Forest Classifier by using the entropy `criterion`, 500 `n_estimators`, and also set the `random_state` to 31. Report the classification accuracy on the training and validation sets.\n",
    "\n",
    "Similarly to what we did in Question 1.18, order the features by decreasing importance and display the 50 most important features. \n",
    "\n",
    "Finally, answer the following questions:\n",
    "* What do you notice by looking at the list of the best 50 features?\n",
    "* How does the performance differ with respect to the case when the additional class indicator variables are not present (Question 1.16)? Relate your observations to the observed feature ranking.\n",
    "* Would it be easy to make use of the results in practice? Briey explain your reasoning.\n",
    "\n",
    "*(Hint: you might want to look at some of the [images](http://www.inf.ed.ac.uk/teaching/courses/iaml/2014/assts/asst3/images.html) to justify your explanations.)*"
   ]
  },
  {
   "cell_type": "code",
   "execution_count": 35,
   "metadata": {},
   "outputs": [
    {
     "name": "stdout",
     "output_type": "stream",
     "text": [
      "Accuracy on the Training set: 1.0\n",
      "Accuracy on the validation set: 0.711590296496\n",
      "              Importance\n",
      "is_cat          0.009379\n",
      "is_bird         0.008731\n",
      "dim21           0.008030\n",
      "dim51           0.005925\n",
      "dim360          0.005463\n",
      "dim4            0.005325\n",
      "dim76           0.005271\n",
      "dim398          0.005254\n",
      "dim283          0.004983\n",
      "dim479          0.004942\n",
      "dim263          0.004734\n",
      "dim343          0.004609\n",
      "dim423          0.004433\n",
      "dim485          0.004245\n",
      "dim254          0.004189\n",
      "dim461          0.004158\n",
      "dim222          0.004134\n",
      "dim356          0.003914\n",
      "dim74           0.003860\n",
      "dim288          0.003850\n",
      "dim214          0.003792\n",
      "dim348          0.003781\n",
      "dim330          0.003713\n",
      "dim217          0.003683\n",
      "dim483          0.003633\n",
      "dim90           0.003626\n",
      "dim274          0.003597\n",
      "dim347          0.003533\n",
      "dim17           0.003448\n",
      "dim427          0.003377\n",
      "dim35           0.003306\n",
      "dim326          0.003298\n",
      "dim73           0.003267\n",
      "dim312          0.003193\n",
      "dim48           0.003160\n",
      "dim25           0.003155\n",
      "dim315          0.003146\n",
      "dim322          0.003128\n",
      "dim329          0.003101\n",
      "dim500          0.003085\n",
      "dim134          0.003034\n",
      "dim206          0.003017\n",
      "is_aeroplane    0.002998\n",
      "dim96           0.002968\n",
      "dim353          0.002965\n",
      "dim442          0.002952\n",
      "dim77           0.002943\n",
      "dim440          0.002927\n",
      "dim171          0.002910\n",
      "dim154          0.002877\n"
     ]
    },
    {
     "name": "stderr",
     "output_type": "stream",
     "text": [
      "/home/chienyu/anaconda2/envs/iaml/lib/python2.7/site-packages/ipykernel_launcher.py:22: FutureWarning: by argument to sort_index is deprecated, pls use .sort_values(by=...)\n"
     ]
    }
   ],
   "source": [
    "# Your code goes here\n",
    "data_path = os.path.join(os.getcwd(), 'datasets', 'train_images_partA.csv')\n",
    "train_A = pd.read_csv(data_path, delimiter = ',')\n",
    "data_path = os.path.join(os.getcwd(), 'datasets', 'valid_images_partA.csv')\n",
    "valid_A = pd.read_csv(data_path, delimiter = ',')\n",
    "X_train = train_A.drop([\"imgId\",\"is_person\"], axis=1)\n",
    "X_test = valid_A.drop([\"imgId\",\"is_person\"], axis=1)\n",
    "y_train = train_A[\"is_person\"]\n",
    "y_test = valid_A[\"is_person\"]\n",
    "\n",
    "scale = StandardScaler().fit(X_train)\n",
    "X_train_std = scale.transform(X_train)\n",
    "X_test_std = scale.transform(X_test)\n",
    "\n",
    "rfl = RandomForestClassifier(criterion=\"entropy\", n_estimators=500, random_state=31)\n",
    "rfl.fit(X_train_std, y_train)\n",
    "print(\"Accuracy on the Training set: {}\".format(rfl.score(X_train_std, y_train)))\n",
    "print(\"Accuracy on the validation set: {}\".format(rfl.score(X_test_std, y_test)))\n",
    "\n",
    "importance = rfl.feature_importances_\n",
    "importance = pd.DataFrame(importance, index=X_train.columns, columns=[\"Importance\"])\n",
    "des_importance = importance.sort_index(by='Importance', ascending=False)\n",
    "print(des_importance.head(50))"
   ]
  },
  {
   "cell_type": "markdown",
   "metadata": {},
   "source": [
    "*Your answer goes here*\n",
    "\n",
    "The top 50 feartures changed, the first and second is is_cat and is_bird, repectively.\n",
    "The accuracy of validation become higher, which means the classifier has improved. The reason why the classifier improved is that there are two really important class indicator variable add in.\n",
    "Yes, becasue is_cat and is_bird may have some correlation with is_person."
   ]
  },
  {
   "cell_type": "markdown",
   "metadata": {},
   "source": [
    "## Mini challenge [30%]"
   ]
  },
  {
   "cell_type": "markdown",
   "metadata": {},
   "source": [
    "*Important: You are allowed to write up to a maximum of 600 words in this part of the assignment. The thoroughness of the exploration and the quality of the resulting discussion is just as important as the final classification performance of your chosen method(s) and credit will be divided accordingly.*"
   ]
  },
  {
   "cell_type": "markdown",
   "metadata": {},
   "source": [
    "In this final part of the assignment we will have a mini object-recognition challenge. Using the data provided you are asked to find the best classiffier for the person/no person classification task. You can apply any preprocessing steps to the data that you think fit and employ any classifier you like (with the provison that you can explain what the classifier is/preprocessing steps are doing). You can also employ any lessons learnt during the course, either from previous Assignments, the Labs or the lecture material to try and squeeze out as much performance as you possibly can. The only restriction is that all steps must be performed in `Python` by using the `numpy`, `pandas` and `sklearn` packages. You can also make use of `matplotlib` and `seaborn` for visualisation. "
   ]
  },
  {
   "cell_type": "markdown",
   "metadata": {},
   "source": [
    "**Important:** The classification performance metric that we will use for this part is the *cross-entropy* or *logarithmic loss* (see Lab 4). You should familiarise yourself with the metric by reading the `sklearn` [user guide](http://scikit-learn.org/0.17/modules/model_evaluation.html#log-loss) and [documentation](http://scikit-learn.org/0.17/modules/generated/sklearn.metrics.log_loss.html#sklearn.metrics.log_loss). To estimate this metric you will need to evaluate probability outputs, as opposed to discrete predictions which we have used so far to compute classification accuracies. Most models in `sklearn` implement a `predict_proba()` method which returns the probabilities for each class. For instance, if your test set consists of `N` datapoints and there are `K` classes, the method will return a `N` x `K` matrix."
   ]
  },
  {
   "cell_type": "markdown",
   "metadata": {},
   "source": [
    "We provide you with three new data sets: a training set (`train_images_partB.csv`), a validation set (`valid_images_partB.csv`), and a test set (`test_images_partB.csv`). You must use the former two for training and evaluating your models (as you see fit). Once you have chosen your favourite model (and pre-processing steps) you should apply it to the test set (for which no labels are provided). Estimate the posterior proabilities for the data points in the test set and submit your results as part of your answer. Your results will be evaluated in terms of the logarithmic loss metric. You also need to submit a brief description of the approaches you considered, your suggested final approach, and a short explanation of why you chose it. The thoroughness of the exploration and the quality of the resulting discussion is just as important as the final score of your chosen method(s) and credit will be divided accordingly.\n",
    "\n",
    "*Hint: Feature engineering, feature combination, model combination and model parameter optimization can significantly improve performance.*"
   ]
  },
  {
   "cell_type": "markdown",
   "metadata": {},
   "source": [
    "**How to submit your results**: Store the estimated probabilities for the data points in the test set in a 2D numpy array. Then execute the provided cell at the end of this notebook which uses a provided `save_predictions` function to export your results into a `.txt` file (the function will return an error if the provided array has not the right shape). The `.txt` file will be saved where your notebook lives. Submit this file along with your notebook as detailed at the top of this file."
   ]
  },
  {
   "cell_type": "markdown",
   "metadata": {},
   "source": [
    "*Your answer goes here (max. 600 words)*\n",
    "\n",
    "    In the mini challenge is to find the best classifier for recognize the object is person or not person. The full dataset has 539 attributes, including 500 dimensions and 19 different classes. Since the feature space in high dimension, I choose several non-linear classifications to look for their performance.\n",
    "    The classifiers I choose are Logistic Regression, Random Forest and Support Vector, and there are several reasons why I choose these classifiers. The logistic function is to transform a linear combination of the input into a non-linear output and It can be applied on distributed data. Moreover, it is efficient in terms of time and memory requirement. Random Forest is one of the most accurate learning algorithms available. For many data sets, it produces a highly accurate classifier and runs efficiently on large databases. Support Vector works on the principle of fitting a boundary to a region of points which are alike. Reliance on boundary cases also enables them to handle missing data for “obvious” cases. It can handle large feature space and non-linear feature interactions.\n",
    "    After training and evaluating these models, I found Random forest classifier perform the best. I got 62% and 60% for accuracy of training and validation set in Logistic regression. One reason for the bad performance is the large feature space. In Random forest I got 100% in training set and 70% in validation set. The last one, Support Vector, I got 67% and 64% accurate on training and validation set, respectively. Since the Random forest classifier has the highest accuracy rate, I chose it as my classifier model. Before applying it to the test set, I tested the accuracy rate for different estimators. I tried 300, 400, 500, 600 and 700 estimators, and found that 500 estimators have the best performance.\n",
    "    Applied the test set in the model, I estimate the posterior probabilities for the data points and evaluated the logarithmic loss. The final result I got 0.468 of log loss. Logarithmic loss measures the performance of a classification model, and the goal is to minimize this value. Log Loss considers the uncertainty of your prediction based on how much it varies from the actual label. However, I only got 0.468 of log loss, if the model needs to enhance the accuracy of recognizing the object, it will need to make some improvements."
   ]
  },
  {
   "cell_type": "code",
   "execution_count": 10,
   "metadata": {},
   "outputs": [
    {
     "name": "stdout",
     "output_type": "stream",
     "text": [
      "(2113,)\n"
     ]
    }
   ],
   "source": [
    "# Your code goes here\n",
    "data_path = os.path.join(os.getcwd(), 'datasets', 'train_images_partB.csv')\n",
    "train_B = pd.read_csv(data_path, delimiter = ',')\n",
    "data_path = os.path.join(os.getcwd(), 'datasets', 'valid_images_partB.csv')\n",
    "valid_B = pd.read_csv(data_path, delimiter = ',')\n",
    "data_path = os.path.join(os.getcwd(), 'datasets', 'test_images_partB.csv')\n",
    "test_B = pd.read_csv(data_path, delimiter = ',')\n",
    "\n",
    "X_tr_B = train_B.iloc[:,1:501] \n",
    "X_val_B = valid_B.iloc[:,1:501]   \n",
    "X_test_B = test_B.iloc[:,0:500]\n",
    "y_tr_B = train_B[\"is_person\"]   \n",
    "y_val_B = valid_B[\"is_person\"] \n",
    "y_test_B = test_B[\"is_person\"] \n",
    "\n",
    "scale = StandardScaler().fit(X_tr_B)\n",
    "X_trB_std = scale.transform(X_tr_B)\n",
    "X_valB_std = scale.transform(X_val_B)\n",
    "X_testB_std = scale.transform(X_test_B)\n",
    "\n",
    "kf = KFold(2093, n_folds=3, shuffle = True, random_state=0)\n",
    "\n",
    "print(y_tr_B.shape)"
   ]
  },
  {
   "cell_type": "code",
   "execution_count": 4,
   "metadata": {},
   "outputs": [
    {
     "name": "stdout",
     "output_type": "stream",
     "text": [
      "TThe baseline classifier accuracy score: 0.551822053952\n"
     ]
    },
    {
     "data": {
      "image/png": "[encoded data removed]",
      "text/plain": [
       "<matplotlib.figure.Figure at 0x7fb0205563d0>"
      ]
     },
     "metadata": {},
     "output_type": "display_data"
    }
   ],
   "source": [
    "#baseline classification\n",
    "fig = plt.figure(figsize=(8,4))\n",
    "labels=[\"NO\",\"YES\"]\n",
    "ax1 = plt.subplot(1,2,1)\n",
    "ax1 = sns.countplot(x=y_tr_B, data = train_B)\n",
    "ax1.set_xticklabels(labels)\n",
    "ax1.set_title(\"training target\")\n",
    "                    \n",
    "ax2 = plt.subplot(1,2,2)\n",
    "ax2 = sns.countplot(x=y_val_B, data = valid_B)\n",
    "ax2.set_xticklabels(labels)\n",
    "ax2.set_title(\"validation target\")\n",
    "\n",
    "class_counts = train_B[\"is_person\"].value_counts()\n",
    "print(\"TThe baseline classifier accuracy score: {}\".format(class_counts[0]/class_counts.values.sum()))"
   ]
  },
  {
   "cell_type": "code",
   "execution_count": 5,
   "metadata": {},
   "outputs": [
    {
     "name": "stdout",
     "output_type": "stream",
     "text": [
      "Classification accuracy on training set: 0.621864647421\n",
      "Classification accuracy on test set: 0.607367475292\n"
     ]
    }
   ],
   "source": [
    "#LogisticRegression classifier\n",
    "scale = StandardScaler().fit(X_tr_B)\n",
    "X_trB_std = scale.transform(X_tr_B)\n",
    "X_valB_std = scale.transform(X_val_B)\n",
    "\n",
    "LR = LogisticRegression(solver='lbfgs')\n",
    "LR.fit(X_trB_std, y_tr_B)\n",
    "print('Classification accuracy on training set: {}'.format(LR.score(X_trB_std, y_tr_B)))\n",
    "print('Classification accuracy on test set: {}'.format(LR.score(X_valB_std, y_val_B)))"
   ]
  },
  {
   "cell_type": "code",
   "execution_count": 6,
   "metadata": {},
   "outputs": [
    {
     "name": "stdout",
     "output_type": "stream",
     "text": [
      "estimators 300:\n",
      "Accuracy on the Training set: 1.0\n",
      "Accuracy on the validation set: 0.693620844564\n",
      "estimators 400:\n",
      "Accuracy on the Training set: 1.0\n",
      "Accuracy on the validation set: 0.696316262354\n",
      "estimators 500:\n",
      "Accuracy on the Training set: 1.0\n",
      "Accuracy on the validation set: 0.700808625337\n",
      "estimators 600:\n",
      "Accuracy on the Training set: 1.0\n",
      "Accuracy on the validation set: 0.69991015274\n",
      "estimators 700:\n",
      "Accuracy on the Training set: 1.0\n",
      "Accuracy on the validation set: 0.69991015274\n"
     ]
    }
   ],
   "source": [
    "#Random Forest Classifier - the accuracy of different estimators \n",
    "estimators=[300, 400, 500, 600, 700]\n",
    "for i in estimators:\n",
    "    RFL = RandomForestClassifier(n_estimators=i, random_state=42)\n",
    "    RFL.fit(X_trB_std, y_tr_B)\n",
    "    print(\"estimators {}:\".format(i))\n",
    "    print(\"Accuracy on the Training set: {}\".format(RFL.score(X_trB_std, y_tr_B)))\n",
    "    print(\"Accuracy on the validation set: {}\".format(RFL.score(X_valB_std, y_val_B)))\n"
   ]
  },
  {
   "cell_type": "code",
   "execution_count": 7,
   "metadata": {},
   "outputs": [
    {
     "name": "stdout",
     "output_type": "stream",
     "text": [
      "(1114, 2)\n",
      "log loss: 0.467869419192\n"
     ]
    }
   ],
   "source": [
    "#random forest classifier\n",
    "RFL_new = RandomForestClassifier(n_estimators=500, random_state=42)\n",
    "RFL_new.fit(X_trB_std, y_tr_B)\n",
    "y_test_B = RFL_new.predict(X_testB_std)\n",
    "y_pred_prob_rfl = RFL_new.predict_proba(X_testB_std)\n",
    "print(y_pred_prob_rfl.shape)\n",
    "print('log loss:', log_loss(y_test_B, y_pred_prob_rfl))\n"
   ]
  },
  {
   "cell_type": "code",
   "execution_count": 9,
   "metadata": {},
   "outputs": [
    {
     "name": "stdout",
     "output_type": "stream",
     "text": [
      "Linear Accuracy on the Training set: 0.555134879319\n",
      "Linear Accuracy on the validation set: 0.526504941599\n",
      "Radial Basis Function Accuracy on the Training set: 0.555134879319\n",
      "Radial Basis Function Accuracy on the validation set: 0.526504941599\n",
      "Polynomial Accuracy on the Training set: 0.555134879319\n",
      "Polynomial Accuracy on the validation set: 0.526504941599\n",
      "Sigmoid Accuracy on the Training set: 0.551822053952\n",
      "Sigmoid Accuracy on the validation set: 0.526504941599\n"
     ]
    }
   ],
   "source": [
    "#different kernel of SVC accuracy\n",
    "svc_linear = SVC(kernel='linear').fit(X_trB_std, y_tr_B)\n",
    "svc_rbf = SVC(kernel='rbf').fit(X_trB_std, y_tr_B)\n",
    "svc_poly = SVC(kernel='poly').fit(X_trB_std, y_tr_B)\n",
    "svc_sigmoid = SVC(kernel='sigmoid').fit(X_trB_std, y_tr_B)\n",
    "print(\"Linear Accuracy on the Training set: {}\".format(svc_linear.score(X_trB_std, y_tr_B)))\n",
    "print(\"Linear Accuracy on the validation set: {}\".format(svc_linear.score(X_valB_std, y_val_B)))\n",
    "print(\"Radial Basis Function Accuracy on the Training set: {}\".format(svc_rbf.score(X_trB_std, y_tr_B)))\n",
    "print(\"Radial Basis Function Accuracy on the validation set: {}\".format(svc_rbf.score(X_valB_std, y_val_B)))\n",
    "print(\"Polynomial Accuracy on the Training set: {}\".format(svc_poly.score(X_trB_std, y_tr_B)))\n",
    "print(\"Polynomial Accuracy on the validation set: {}\".format(svc_poly.score(X_valB_std, y_val_B)))\n",
    "print(\"Sigmoid Accuracy on the Training set: {}\".format(svc_sigmoid.score(X_trB_std, y_tr_B)))\n",
    "print(\"Sigmoid Accuracy on the validation set: {}\".format(svc_sigmoid.score(X_valB_std, y_val_B)))\n"
   ]
  },
  {
   "cell_type": "code",
   "execution_count": 11,
   "metadata": {},
   "outputs": [
    {
     "name": "stdout",
     "output_type": "stream",
     "text": [
      "the optimal of the regularisation parameter C:  1000.0\n",
      "the highest obtained mean accuracy score: 0.647399346908\n",
      "accuracy on training set: 0.677236157123\n",
      "accuracy on validation set: 0.649595687332\n"
     ]
    }
   ],
   "source": [
    "# support vector classifiers\n",
    "c_list=np.logspace(-2, 3, 10)\n",
    "score = np.empty(shape = [0,2])\n",
    "each_score=[]\n",
    "i=0\n",
    "for i in range(10):\n",
    "    SVC_rbf_n = SVC(C=c_list[i], kernel='rbf', gamma='auto')\n",
    "    for train_index, test_index in kf:\n",
    "        X_train, X_test = X_trB_std[train_index], X_trB_std[test_index]\n",
    "        y_train, y_test = y_tr_B[train_index], y_tr_B[test_index]\n",
    "        SVC_rbf_n.fit(X_train, y_train)\n",
    "        each_score = np.append(each_score, SVC_rbf_n.score(X_test,y_test)) \n",
    "    avg_score = np.average(each_score)\n",
    "    score = np.append(score, [[c_list[i], avg_score]],axis=0)\n",
    "    each_score=[]\n",
    "\n",
    "maxindex = np.where(score[:,1] == np.max(score[:,1]))\n",
    "opt_c = score[maxindex][0][0]\n",
    "SVC_rbf_opt_B = SVC(C=opt_c, kernel='rbf', gamma='auto').fit(X_trB_std, y_tr_B)\n",
    "print(\"the optimal of the regularisation parameter C: \", opt_c)\n",
    "print(\"the highest obtained mean accuracy score:\", np.max(score[:,1]))\n",
    "print(\"accuracy on training set: {}\".format(SVC_rbf_opt_B.score(X_trB_std, y_tr_B)))\n",
    "print(\"accuracy on validation set: {}\".format(SVC_rbf_opt_B.score(X_valB_std, y_val_B)))"
   ]
  },
  {
   "cell_type": "code",
   "execution_count": 18,
   "metadata": {
    "collapsed": true
   },
   "outputs": [],
   "source": [
    "# Execute this cell to export your results\n",
    "from numpy import savetxt\n",
    "def save_predictions(pred_proba):\n",
    "    if pred_proba.shape != (1114,2):\n",
    "        raise ValueError('Predicted probabilities array is not the right shape.')\n",
    "    \n",
    "    savetxt('assignment_3_predictions.txt', pred_proba)\n",
    "\n",
    "# You need to replace \"test_images_partB_pred_proba\"\n",
    "# with the name of the array which contains the probability \n",
    "# estimates for the data in the test set.\n",
    "save_predictions(y_pred_prob_rfl) "
   ]
  },
  {
   "cell_type": "code",
   "execution_count": null,
   "metadata": {
    "collapsed": true
   },
   "outputs": [],
   "source": []
  },
  {
   "cell_type": "code",
   "execution_count": null,
   "metadata": {
    "collapsed": true
   },
   "outputs": [],
   "source": []
  },
  {
   "cell_type": "markdown",
   "metadata": {
    "collapsed": true
   },
   "source": [
    "# Appendix"
   ]
  },
  {
   "cell_type": "markdown",
   "metadata": {},
   "source": [
    "## More information about visual words"
   ]
  },
  {
   "cell_type": "markdown",
   "metadata": {},
   "source": [
    "Visual words are based on [Scale-invariant feature transforms (SIFT)](https://en.wikipedia.org/wiki/Scale-invariant_feature_transform). SIFT features are essentially local orientation histograms and capture the properties of small image regions. They possess attractive invariance properties which make them well suited for our task (you can read more about SIFT features in [D.Lowe, IJCV 60(2):91- 110, 2004](http://link.springer.com/article/10.1023/B:VISI.0000029664.99615.94), but the details don't matter for the purpose of this assignment). Each SIFT feature is a 128 dimensional vector. From each image many SIFT features are extracted, typically > 2500 per image (features are extracted at regular intervals using a 15 pixel grid and at 4 different scales). To obtain visual words a representative subset of all extracted SIFT features from all images is chosen and clustered with k-means using 500 centres (such use of the k-means algorithm will be discussed in detail during the lecture). These 500 cluster centres form our visual words. The representation of a single image is obtained by first assigning each SIFT feature extracted from the image to the appropriate cluster (i.e. we determine the visual word corresponding to each feature by picking the closest cluster centre). We then count the number of features from that image assigned to each cluster (i.e. we determine how often each visual word is present in the image). This results in a 500 dimensional count vector for each image (one dimension for each visual word). The normalized version of this count vector gives the final representation of the image (normalized means that we divide the count vector by the total number of visual words in the image, i.e. the normalized counts sum to 1 for each image)"
   ]
  }
 ],
 "metadata": {
  "anaconda-cloud": {},
  "kernelspec": {
   "display_name": "Python 2",
   "language": "python",
   "name": "python2"
  },
  "language_info": {
   "codemirror_mode": {
    "name": "ipython",
    "version": 2
   },
   "file_extension": ".py",
   "mimetype": "text/x-python",
   "name": "python",
   "nbconvert_exporter": "python",
   "pygments_lexer": "ipython2",
   "version": "2.7.13"
  }
 },
 "nbformat": 4,
 "nbformat_minor": 1
}
